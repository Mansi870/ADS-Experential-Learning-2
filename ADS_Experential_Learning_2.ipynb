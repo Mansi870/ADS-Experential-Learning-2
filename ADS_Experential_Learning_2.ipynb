{
  "nbformat": 4,
  "nbformat_minor": 0,
  "metadata": {
    "colab": {
      "name": "ADS Experential Learning 2.ipynb",
      "provenance": []
    },
    "kernelspec": {
      "name": "python3",
      "display_name": "Python 3"
    }
  },
  "cells": [
    {
      "cell_type": "markdown",
      "metadata": {
        "id": "qSlKAH1XvxH_"
      },
      "source": [
        "# **Hotel Booking Analysis**\n",
        "\n",
        "\n",
        "The aim is to create meaningful estimators from the data set we have and to select the model that predicts the cancellation best by comparing them with the accuracy scores of different ML models and ROC Curves."
      ]
    },
    {
      "cell_type": "markdown",
      "metadata": {
        "id": "PMANnPcn0Dj7"
      },
      "source": [
        "**Column information**\n",
        "\n",
        "Hotel\n",
        "\n",
        "        1. H1: Resort hotel\n",
        "        2. H2: City hotel\n",
        "\n",
        "is_canceled\n",
        "    \n",
        "        *  1: Canceled\n",
        "        *  0: Not canceled\n",
        "\n",
        "\n",
        " lead_time\n",
        "        \n",
        "        *   No of days thaat elapsed between entering date of booking into property management system and arrival date\n",
        "\n",
        "\n",
        "arrival_date_year\n",
        "        \n",
        "        *  Year of arrival date (2015-2017)\n",
        "\n",
        "arrival_date_month\n",
        "\n",
        "        *   Month of arrival date (Jan - Dec)\n",
        "\n",
        " arrival_date_week_numberr\n",
        "\n",
        "        *  Week number of year for arrival date (1-53)\n",
        "\n",
        "arrival_date_day_of_month\n",
        "\n",
        "        *   Day of arrival date\n",
        "\n",
        "stays_in_week_nights\n",
        "\n",
        "        *  No of weekend nights (Sat/Sun) the guest stayed or booked to stay at the hotel\n",
        "\n",
        "stays_in_week_nights\n",
        "\n",
        "        *   No of week nights (Mon - Fri) the guest stayed or booked to stay at the hotel\n",
        "\n",
        "*   Adults\n",
        "\n",
        "    Children\n",
        "\n",
        "    Babies\n",
        "\n",
        "  meal\n",
        "        *   Type of meal booked. Undefined/SC – no meal package; BB – Bed & Breakfast; HB – Half board (breakfast and one\n",
        "         other meal – usually dinner); FB – Full board (breakfast, lunch and dinner)\n",
        "\n",
        " country\n",
        "\n",
        "market_segment (a group of people who share one or more common characteristics, lumped together for marketing purposes)\n",
        "\n",
        "\n",
        "*   TA: Travel agents\n",
        "\n",
        "*   TO: Tour operators\n",
        "\n",
        "\n",
        "distribution_channel (A distribution channel is a chain of businesses or intermediaries through which a good or service passes until it reaches the final buyer or the end consumer)\n",
        "\n",
        "*  TA: Travel agents\n",
        "*  TO: Tour operators\n",
        "\n",
        "is_repeated_guest (value indicating if the booking name was from repeated guest)\n",
        "*   1: Yes\n",
        "*   0: No\n",
        "\n",
        "previous_cancellations\n",
        "\n",
        "      Number of previous bookings that were cancelled by the customer prior to the current booking\n",
        "previous_bookings_not_canceled\n",
        "\n",
        "     Number of previous bookings not cancelled by the customer prior to the current booking\n",
        "\n",
        "reserved_room_type\n",
        "\n",
        "      Code of room type reserved. Code is presented instead of designation for anonymity reasons.\n",
        "\n",
        "assigned_room_type\n",
        "\n",
        "      Code for the type of room assigned to the booking. Sometimes the assigned room type differs from the reserved room type due to hotel operation reasons (e.g. overbooking) or by customer request. Code is presented instead of designation for anonymity reasons.\n",
        "\n",
        "booking_changes\n",
        "\n",
        "      Number of changes/amendments made to the booking from the moment the booking was entered on the PMS until the moment of check-in or cancellation\n",
        "\n",
        "deposit_type\n",
        "\n",
        "      Indication on if the customer made a deposit to guarantee the booking. This variable can assume three categories: No Deposit – no deposit was made; Non Refund – a deposit was made in the value of the total stay cost; Refundable – a deposit was made with a value under the total cost of stay.\n",
        "\n",
        "agent\n",
        "\n",
        "      ID of the travel agency that made the booking\n",
        "\n",
        " company\n",
        "\n",
        "ID of the company/entity that made the booking or responsible for paying the booking. ID is presented instead of designation for anonymity reasons\n",
        "\n",
        "day_in_waiting_list\n",
        "\n",
        "Number of days the booking was in the waiting list before it was confirmed to the customer\n",
        "\n",
        "customer_type\n",
        "\n",
        "*   Contract - when the booking has an allotment or other type of contract associated to it;\n",
        "\n",
        "*   Group – when the booking is associated to a group;\n",
        "\n",
        "*   Transient – when the booking is not part of a group or contract, and is not associated to other transient booking;\n",
        "\n",
        "*  Transient-party – when the booking is transient, but is associated to at least other transient booking\n",
        "\n",
        "adr (average daily rate)\n",
        "\n",
        " average daily rate = 𝑆𝑢𝑚𝑂𝑓𝐴𝑙𝑙𝐿𝑜𝑑𝑔𝑖𝑛𝑔𝑇𝑟𝑎𝑛𝑠𝑎𝑐𝑡𝑖𝑜𝑛 /𝑇𝑜𝑡𝑎𝑙𝑁𝑢𝑚𝑏𝑒𝑟𝑂𝑓𝑆𝑡𝑎𝑦𝑖𝑛𝑔𝑁𝑖𝑔ℎ𝑡\n",
        "  \n",
        "required_car_parking_spaces\n",
        "\n",
        "      Number of car parking spaces required by the customer\n",
        "\n",
        "total_of_special_requests\n",
        "\n",
        "      Number of special requests made by the customer (e.g. twin bed or high floor)\n",
        "\n",
        "reservation_status\n",
        "\n",
        "*   Canceled – booking was canceled by the customer;\n",
        "*   Check-Out – customer has checked in but already departed;\n",
        "*   No-Show – customer did not check-in and did inform the hotel of the reason\n",
        "\n",
        "reservation_status_date\n",
        "\n",
        "      Date at which the last status was set. This variable can be used in conjunction with the ReservationStatus to understand when was the booking canceled or when did the customer checked-out of the hotel\n",
        "\n",
        "\n",
        "\n",
        "\n",
        "\n",
        "\n",
        "\n",
        "\n",
        "\n"
      ]
    },
    {
      "cell_type": "code",
      "metadata": {
        "id": "90Y4ciLAkh2w",
        "outputId": "d9c0e148-f54c-44fa-f4b5-a3687d3ee1ff",
        "colab": {
          "base_uri": "https://localhost:8080/"
        }
      },
      "source": [
        "from google.colab import drive\n",
        "\n",
        "drive.mount('/content/gdrive')"
      ],
      "execution_count": 169,
      "outputs": [
        {
          "output_type": "stream",
          "text": [
            "Drive already mounted at /content/gdrive; to attempt to forcibly remount, call drive.mount(\"/content/gdrive\", force_remount=True).\n"
          ],
          "name": "stdout"
        }
      ]
    },
    {
      "cell_type": "code",
      "metadata": {
        "id": "bDVJDH-PuKoG",
        "outputId": "ec11d705-689e-4c1a-b749-fe273cc42f5b",
        "colab": {
          "base_uri": "https://localhost:8080/"
        }
      },
      "source": [
        "!ls \"/content/gdrive/My Drive/hotel_bookings.csv\""
      ],
      "execution_count": 170,
      "outputs": [
        {
          "output_type": "stream",
          "text": [
            "'/content/gdrive/My Drive/hotel_bookings.csv'\n"
          ],
          "name": "stdout"
        }
      ]
    },
    {
      "cell_type": "code",
      "metadata": {
        "id": "NRHDZgnwuwSE"
      },
      "source": [
        "csv_file=\"/content/gdrive/My Drive/hotel_bookings.csv\""
      ],
      "execution_count": 171,
      "outputs": []
    },
    {
      "cell_type": "code",
      "metadata": {
        "id": "RSsSipZqvAuQ"
      },
      "source": [
        "import numpy as np\n",
        "import pandas as pd\n",
        "import seaborn as sns\n",
        "\n",
        "import matplotlib.pyplot as plt\n",
        "import statsmodels.formula.api as smf\n",
        "\n",
        "from sklearn.metrics import accuracy_score, roc_auc_score, roc_curve, confusion_matrix, auc\n",
        "from sklearn.model_selection import train_test_split, cross_val_score, GridSearchCV\n",
        "from sklearn.preprocessing import LabelEncoder, StandardScaler \n",
        "\n",
        "from sklearn.tree import DecisionTreeClassifier\n",
        "from sklearn.linear_model import LogisticRegression\n",
        "from sklearn.svm import SVC\n",
        "from sklearn.naive_bayes import GaussianNB\n",
        "from sklearn.ensemble import RandomForestClassifier\n",
        "from xgboost import XGBClassifier\n",
        "from sklearn.neural_network import MLPClassifier\n",
        "\n",
        "from warnings import filterwarnings\n",
        "filterwarnings('ignore')"
      ],
      "execution_count": 172,
      "outputs": []
    },
    {
      "cell_type": "code",
      "metadata": {
        "id": "AOJfn5bivHP0"
      },
      "source": [
        "df = pd.read_csv(csv_file)"
      ],
      "execution_count": 173,
      "outputs": []
    },
    {
      "cell_type": "code",
      "metadata": {
        "id": "Dk5mif0TvLrH",
        "outputId": "2648cce5-02c1-4f08-8143-a3fa8595b91a",
        "colab": {
          "base_uri": "https://localhost:8080/",
          "height": 303
        }
      },
      "source": [
        "df.head()"
      ],
      "execution_count": 174,
      "outputs": [
        {
          "output_type": "execute_result",
          "data": {
            "text/html": [
              "<div>\n",
              "<style scoped>\n",
              "    .dataframe tbody tr th:only-of-type {\n",
              "        vertical-align: middle;\n",
              "    }\n",
              "\n",
              "    .dataframe tbody tr th {\n",
              "        vertical-align: top;\n",
              "    }\n",
              "\n",
              "    .dataframe thead th {\n",
              "        text-align: right;\n",
              "    }\n",
              "</style>\n",
              "<table border=\"1\" class=\"dataframe\">\n",
              "  <thead>\n",
              "    <tr style=\"text-align: right;\">\n",
              "      <th></th>\n",
              "      <th>hotel</th>\n",
              "      <th>is_canceled</th>\n",
              "      <th>lead_time</th>\n",
              "      <th>arrival_date_year</th>\n",
              "      <th>arrival_date_month</th>\n",
              "      <th>arrival_date_week_number</th>\n",
              "      <th>arrival_date_day_of_month</th>\n",
              "      <th>stays_in_weekend_nights</th>\n",
              "      <th>stays_in_week_nights</th>\n",
              "      <th>adults</th>\n",
              "      <th>children</th>\n",
              "      <th>babies</th>\n",
              "      <th>meal</th>\n",
              "      <th>country</th>\n",
              "      <th>market_segment</th>\n",
              "      <th>distribution_channel</th>\n",
              "      <th>is_repeated_guest</th>\n",
              "      <th>previous_cancellations</th>\n",
              "      <th>previous_bookings_not_canceled</th>\n",
              "      <th>reserved_room_type</th>\n",
              "      <th>assigned_room_type</th>\n",
              "      <th>booking_changes</th>\n",
              "      <th>deposit_type</th>\n",
              "      <th>agent</th>\n",
              "      <th>company</th>\n",
              "      <th>days_in_waiting_list</th>\n",
              "      <th>customer_type</th>\n",
              "      <th>adr</th>\n",
              "      <th>required_car_parking_spaces</th>\n",
              "      <th>total_of_special_requests</th>\n",
              "      <th>reservation_status</th>\n",
              "      <th>reservation_status_date</th>\n",
              "    </tr>\n",
              "  </thead>\n",
              "  <tbody>\n",
              "    <tr>\n",
              "      <th>0</th>\n",
              "      <td>Resort Hotel</td>\n",
              "      <td>0</td>\n",
              "      <td>342</td>\n",
              "      <td>2015</td>\n",
              "      <td>July</td>\n",
              "      <td>27</td>\n",
              "      <td>1</td>\n",
              "      <td>0</td>\n",
              "      <td>0</td>\n",
              "      <td>2</td>\n",
              "      <td>0.0</td>\n",
              "      <td>0</td>\n",
              "      <td>BB</td>\n",
              "      <td>PRT</td>\n",
              "      <td>Direct</td>\n",
              "      <td>Direct</td>\n",
              "      <td>0</td>\n",
              "      <td>0</td>\n",
              "      <td>0</td>\n",
              "      <td>C</td>\n",
              "      <td>C</td>\n",
              "      <td>3</td>\n",
              "      <td>No Deposit</td>\n",
              "      <td>NaN</td>\n",
              "      <td>NaN</td>\n",
              "      <td>0</td>\n",
              "      <td>Transient</td>\n",
              "      <td>0.0</td>\n",
              "      <td>0</td>\n",
              "      <td>0</td>\n",
              "      <td>Check-Out</td>\n",
              "      <td>2015-07-01</td>\n",
              "    </tr>\n",
              "    <tr>\n",
              "      <th>1</th>\n",
              "      <td>Resort Hotel</td>\n",
              "      <td>0</td>\n",
              "      <td>737</td>\n",
              "      <td>2015</td>\n",
              "      <td>July</td>\n",
              "      <td>27</td>\n",
              "      <td>1</td>\n",
              "      <td>0</td>\n",
              "      <td>0</td>\n",
              "      <td>2</td>\n",
              "      <td>0.0</td>\n",
              "      <td>0</td>\n",
              "      <td>BB</td>\n",
              "      <td>PRT</td>\n",
              "      <td>Direct</td>\n",
              "      <td>Direct</td>\n",
              "      <td>0</td>\n",
              "      <td>0</td>\n",
              "      <td>0</td>\n",
              "      <td>C</td>\n",
              "      <td>C</td>\n",
              "      <td>4</td>\n",
              "      <td>No Deposit</td>\n",
              "      <td>NaN</td>\n",
              "      <td>NaN</td>\n",
              "      <td>0</td>\n",
              "      <td>Transient</td>\n",
              "      <td>0.0</td>\n",
              "      <td>0</td>\n",
              "      <td>0</td>\n",
              "      <td>Check-Out</td>\n",
              "      <td>2015-07-01</td>\n",
              "    </tr>\n",
              "    <tr>\n",
              "      <th>2</th>\n",
              "      <td>Resort Hotel</td>\n",
              "      <td>0</td>\n",
              "      <td>7</td>\n",
              "      <td>2015</td>\n",
              "      <td>July</td>\n",
              "      <td>27</td>\n",
              "      <td>1</td>\n",
              "      <td>0</td>\n",
              "      <td>1</td>\n",
              "      <td>1</td>\n",
              "      <td>0.0</td>\n",
              "      <td>0</td>\n",
              "      <td>BB</td>\n",
              "      <td>GBR</td>\n",
              "      <td>Direct</td>\n",
              "      <td>Direct</td>\n",
              "      <td>0</td>\n",
              "      <td>0</td>\n",
              "      <td>0</td>\n",
              "      <td>A</td>\n",
              "      <td>C</td>\n",
              "      <td>0</td>\n",
              "      <td>No Deposit</td>\n",
              "      <td>NaN</td>\n",
              "      <td>NaN</td>\n",
              "      <td>0</td>\n",
              "      <td>Transient</td>\n",
              "      <td>75.0</td>\n",
              "      <td>0</td>\n",
              "      <td>0</td>\n",
              "      <td>Check-Out</td>\n",
              "      <td>2015-07-02</td>\n",
              "    </tr>\n",
              "    <tr>\n",
              "      <th>3</th>\n",
              "      <td>Resort Hotel</td>\n",
              "      <td>0</td>\n",
              "      <td>13</td>\n",
              "      <td>2015</td>\n",
              "      <td>July</td>\n",
              "      <td>27</td>\n",
              "      <td>1</td>\n",
              "      <td>0</td>\n",
              "      <td>1</td>\n",
              "      <td>1</td>\n",
              "      <td>0.0</td>\n",
              "      <td>0</td>\n",
              "      <td>BB</td>\n",
              "      <td>GBR</td>\n",
              "      <td>Corporate</td>\n",
              "      <td>Corporate</td>\n",
              "      <td>0</td>\n",
              "      <td>0</td>\n",
              "      <td>0</td>\n",
              "      <td>A</td>\n",
              "      <td>A</td>\n",
              "      <td>0</td>\n",
              "      <td>No Deposit</td>\n",
              "      <td>304.0</td>\n",
              "      <td>NaN</td>\n",
              "      <td>0</td>\n",
              "      <td>Transient</td>\n",
              "      <td>75.0</td>\n",
              "      <td>0</td>\n",
              "      <td>0</td>\n",
              "      <td>Check-Out</td>\n",
              "      <td>2015-07-02</td>\n",
              "    </tr>\n",
              "    <tr>\n",
              "      <th>4</th>\n",
              "      <td>Resort Hotel</td>\n",
              "      <td>0</td>\n",
              "      <td>14</td>\n",
              "      <td>2015</td>\n",
              "      <td>July</td>\n",
              "      <td>27</td>\n",
              "      <td>1</td>\n",
              "      <td>0</td>\n",
              "      <td>2</td>\n",
              "      <td>2</td>\n",
              "      <td>0.0</td>\n",
              "      <td>0</td>\n",
              "      <td>BB</td>\n",
              "      <td>GBR</td>\n",
              "      <td>Online TA</td>\n",
              "      <td>TA/TO</td>\n",
              "      <td>0</td>\n",
              "      <td>0</td>\n",
              "      <td>0</td>\n",
              "      <td>A</td>\n",
              "      <td>A</td>\n",
              "      <td>0</td>\n",
              "      <td>No Deposit</td>\n",
              "      <td>240.0</td>\n",
              "      <td>NaN</td>\n",
              "      <td>0</td>\n",
              "      <td>Transient</td>\n",
              "      <td>98.0</td>\n",
              "      <td>0</td>\n",
              "      <td>1</td>\n",
              "      <td>Check-Out</td>\n",
              "      <td>2015-07-03</td>\n",
              "    </tr>\n",
              "  </tbody>\n",
              "</table>\n",
              "</div>"
            ],
            "text/plain": [
              "          hotel  is_canceled  ...  reservation_status  reservation_status_date\n",
              "0  Resort Hotel            0  ...           Check-Out               2015-07-01\n",
              "1  Resort Hotel            0  ...           Check-Out               2015-07-01\n",
              "2  Resort Hotel            0  ...           Check-Out               2015-07-02\n",
              "3  Resort Hotel            0  ...           Check-Out               2015-07-02\n",
              "4  Resort Hotel            0  ...           Check-Out               2015-07-03\n",
              "\n",
              "[5 rows x 32 columns]"
            ]
          },
          "metadata": {
            "tags": []
          },
          "execution_count": 174
        }
      ]
    },
    {
      "cell_type": "code",
      "metadata": {
        "id": "pRkF9GiWvN9a",
        "outputId": "a733d382-f114-4c84-fcfc-8806402025a9",
        "colab": {
          "base_uri": "https://localhost:8080/"
        }
      },
      "source": [
        "df.shape"
      ],
      "execution_count": 175,
      "outputs": [
        {
          "output_type": "execute_result",
          "data": {
            "text/plain": [
              "(119390, 32)"
            ]
          },
          "metadata": {
            "tags": []
          },
          "execution_count": 175
        }
      ]
    },
    {
      "cell_type": "code",
      "metadata": {
        "id": "JRDLIn1fvS0u",
        "outputId": "ff65eda3-00e6-42e3-92f2-c54e91e3772c",
        "colab": {
          "base_uri": "https://localhost:8080/"
        }
      },
      "source": [
        "print(df.dtypes)"
      ],
      "execution_count": 176,
      "outputs": [
        {
          "output_type": "stream",
          "text": [
            "hotel                              object\n",
            "is_canceled                         int64\n",
            "lead_time                           int64\n",
            "arrival_date_year                   int64\n",
            "arrival_date_month                 object\n",
            "arrival_date_week_number            int64\n",
            "arrival_date_day_of_month           int64\n",
            "stays_in_weekend_nights             int64\n",
            "stays_in_week_nights                int64\n",
            "adults                              int64\n",
            "children                          float64\n",
            "babies                              int64\n",
            "meal                               object\n",
            "country                            object\n",
            "market_segment                     object\n",
            "distribution_channel               object\n",
            "is_repeated_guest                   int64\n",
            "previous_cancellations              int64\n",
            "previous_bookings_not_canceled      int64\n",
            "reserved_room_type                 object\n",
            "assigned_room_type                 object\n",
            "booking_changes                     int64\n",
            "deposit_type                       object\n",
            "agent                             float64\n",
            "company                           float64\n",
            "days_in_waiting_list                int64\n",
            "customer_type                      object\n",
            "adr                               float64\n",
            "required_car_parking_spaces         int64\n",
            "total_of_special_requests           int64\n",
            "reservation_status                 object\n",
            "reservation_status_date            object\n",
            "dtype: object\n"
          ],
          "name": "stdout"
        }
      ]
    },
    {
      "cell_type": "code",
      "metadata": {
        "id": "SA9I3xVOwB3z",
        "outputId": "1338b33f-9d0b-47c8-a234-3dddb6117ebc",
        "colab": {
          "base_uri": "https://localhost:8080/"
        }
      },
      "source": [
        "print(\"# of NaN in each columns:\", df.isnull().sum(), sep='\\n')"
      ],
      "execution_count": 177,
      "outputs": [
        {
          "output_type": "stream",
          "text": [
            "# of NaN in each columns:\n",
            "hotel                                  0\n",
            "is_canceled                            0\n",
            "lead_time                              0\n",
            "arrival_date_year                      0\n",
            "arrival_date_month                     0\n",
            "arrival_date_week_number               0\n",
            "arrival_date_day_of_month              0\n",
            "stays_in_weekend_nights                0\n",
            "stays_in_week_nights                   0\n",
            "adults                                 0\n",
            "children                               4\n",
            "babies                                 0\n",
            "meal                                   0\n",
            "country                              488\n",
            "market_segment                         0\n",
            "distribution_channel                   0\n",
            "is_repeated_guest                      0\n",
            "previous_cancellations                 0\n",
            "previous_bookings_not_canceled         0\n",
            "reserved_room_type                     0\n",
            "assigned_room_type                     0\n",
            "booking_changes                        0\n",
            "deposit_type                           0\n",
            "agent                              16340\n",
            "company                           112593\n",
            "days_in_waiting_list                   0\n",
            "customer_type                          0\n",
            "adr                                    0\n",
            "required_car_parking_spaces            0\n",
            "total_of_special_requests              0\n",
            "reservation_status                     0\n",
            "reservation_status_date                0\n",
            "dtype: int64\n"
          ],
          "name": "stdout"
        }
      ]
    },
    {
      "cell_type": "markdown",
      "metadata": {
        "id": "Iogc1n3WytV6"
      },
      "source": [
        "we have quite alot of NaN values in company and agent.Highly doubt they have an impact on the analysis and will remove the 2 columns. The reason why we can't remove rows with NaN value is because that will mean we are removing 112593 rows out of 119390 rows. So removing columns will be a better idea since those 2 attributes (agents and companies) are unimportant. This can be done using data.drop(columns = ['agent', 'company'])."
      ]
    },
    {
      "cell_type": "code",
      "metadata": {
        "id": "x_cmGv4uwIXA",
        "outputId": "afa5cba4-4d94-4a6c-f500-8c1a647d9bbf",
        "colab": {
          "base_uri": "https://localhost:8080/"
        }
      },
      "source": [
        "def perc_mv(x, y):\n",
        "    perc = y.isnull().sum() / len(x) * 100\n",
        "    return perc\n",
        "\n",
        "print('Missing value ratios:\\nCompany: {}\\nAgent: {}\\nCountry: {}'.format(perc_mv(df, df['company']),\n",
        "                                                                          perc_mv(df, df['agent']),\n",
        "                                                                          perc_mv(df, df['country'])))"
      ],
      "execution_count": 178,
      "outputs": [
        {
          "output_type": "stream",
          "text": [
            "Missing value ratios:\n",
            "Company: 94.30689337465449\n",
            "Agent: 13.686238378423655\n",
            "Country: 0.40874445095904177\n"
          ],
          "name": "stdout"
        }
      ]
    },
    {
      "cell_type": "markdown",
      "metadata": {
        "id": "uWNXgmY3y5ZF"
      },
      "source": [
        "As we can see 94.3% of company column are missing values. Therefore we do not have enough values to fill the rows of company column by predicting, filling by mean etc. It seems that the best option is dropping company column."
      ]
    },
    {
      "cell_type": "code",
      "metadata": {
        "id": "xjxiP6Jey3tW"
      },
      "source": [
        "df = df.drop(['company'], axis = 1)"
      ],
      "execution_count": 179,
      "outputs": []
    },
    {
      "cell_type": "code",
      "metadata": {
        "id": "W5vhgFxYzLau"
      },
      "source": [
        "df['children'] = df['children'].fillna(0)"
      ],
      "execution_count": 180,
      "outputs": []
    },
    {
      "cell_type": "code",
      "metadata": {
        "id": "nOgrOvz2zcVW",
        "outputId": "5dd8f362-1bd6-4cee-dbbe-482a37135d3a",
        "colab": {
          "base_uri": "https://localhost:8080/"
        }
      },
      "source": [
        "df.info()"
      ],
      "execution_count": 181,
      "outputs": [
        {
          "output_type": "stream",
          "text": [
            "<class 'pandas.core.frame.DataFrame'>\n",
            "RangeIndex: 119390 entries, 0 to 119389\n",
            "Data columns (total 31 columns):\n",
            " #   Column                          Non-Null Count   Dtype  \n",
            "---  ------                          --------------   -----  \n",
            " 0   hotel                           119390 non-null  object \n",
            " 1   is_canceled                     119390 non-null  int64  \n",
            " 2   lead_time                       119390 non-null  int64  \n",
            " 3   arrival_date_year               119390 non-null  int64  \n",
            " 4   arrival_date_month              119390 non-null  object \n",
            " 5   arrival_date_week_number        119390 non-null  int64  \n",
            " 6   arrival_date_day_of_month       119390 non-null  int64  \n",
            " 7   stays_in_weekend_nights         119390 non-null  int64  \n",
            " 8   stays_in_week_nights            119390 non-null  int64  \n",
            " 9   adults                          119390 non-null  int64  \n",
            " 10  children                        119390 non-null  float64\n",
            " 11  babies                          119390 non-null  int64  \n",
            " 12  meal                            119390 non-null  object \n",
            " 13  country                         118902 non-null  object \n",
            " 14  market_segment                  119390 non-null  object \n",
            " 15  distribution_channel            119390 non-null  object \n",
            " 16  is_repeated_guest               119390 non-null  int64  \n",
            " 17  previous_cancellations          119390 non-null  int64  \n",
            " 18  previous_bookings_not_canceled  119390 non-null  int64  \n",
            " 19  reserved_room_type              119390 non-null  object \n",
            " 20  assigned_room_type              119390 non-null  object \n",
            " 21  booking_changes                 119390 non-null  int64  \n",
            " 22  deposit_type                    119390 non-null  object \n",
            " 23  agent                           103050 non-null  float64\n",
            " 24  days_in_waiting_list            119390 non-null  int64  \n",
            " 25  customer_type                   119390 non-null  object \n",
            " 26  adr                             119390 non-null  float64\n",
            " 27  required_car_parking_spaces     119390 non-null  int64  \n",
            " 28  total_of_special_requests       119390 non-null  int64  \n",
            " 29  reservation_status              119390 non-null  object \n",
            " 30  reservation_status_date         119390 non-null  object \n",
            "dtypes: float64(3), int64(16), object(12)\n",
            "memory usage: 28.2+ MB\n"
          ],
          "name": "stdout"
        }
      ]
    },
    {
      "cell_type": "markdown",
      "metadata": {
        "id": "IoDyKaBQ24y8"
      },
      "source": [
        "**## Now we have 31 columns with equal data i.e. 119300**\n",
        "\n",
        "\n",
        "\n"
      ]
    },
    {
      "cell_type": "markdown",
      "metadata": {
        "id": "TKN5y8VImU4C"
      },
      "source": [
        "**We should check the features to create some more meaningful variables and reduce the number of features if it is possible.**"
      ]
    },
    {
      "cell_type": "code",
      "metadata": {
        "id": "KH86s_CPmU6n"
      },
      "source": [
        "data=df.copy()"
      ],
      "execution_count": 182,
      "outputs": []
    },
    {
      "cell_type": "markdown",
      "metadata": {
        "id": "LKeIQ0cCmgXe"
      },
      "source": [
        "**I label them manually and the rest with get.dummies or label_encoder.**"
      ]
    },
    {
      "cell_type": "code",
      "metadata": {
        "id": "OiS2FC47mJ71"
      },
      "source": [
        "data['hotel'] = data['hotel'].map({'Resort Hotel':0, 'City Hotel':1})\n",
        "\n",
        "data['arrival_date_month'] = data['arrival_date_month'].map({'January':1, 'February': 2, 'March':3, 'April':4, 'May':5, 'June':6, 'July':7,\n",
        "                                                            'August':8, 'September':9, 'October':10, 'November':11, 'December':12})"
      ],
      "execution_count": 183,
      "outputs": []
    },
    {
      "cell_type": "code",
      "metadata": {
        "id": "cn66TmvbmePE"
      },
      "source": [
        "def family(data):\n",
        "    if ((data['adults'] > 0) & (data['children'] > 0)):\n",
        "        val = 1\n",
        "    elif ((data['adults'] > 0) & (data['babies'] > 0)):\n",
        "        val = 1\n",
        "    else:\n",
        "        val = 0\n",
        "    return val\n",
        "\n",
        "def deposit(data):\n",
        "    if ((data['deposit_type'] == 'No Deposit') | (data['deposit_type'] == 'Refundable')):\n",
        "        return 0\n",
        "    else:\n",
        "        return 1"
      ],
      "execution_count": 184,
      "outputs": []
    },
    {
      "cell_type": "code",
      "metadata": {
        "id": "9_ovZFJvmiAG"
      },
      "source": [
        "def feature(data):\n",
        "    data[\"is_family\"] = data.apply(family, axis = 1)\n",
        "    data[\"total_customer\"] = data[\"adults\"] + data[\"children\"] + data[\"babies\"]\n",
        "    data[\"deposit_given\"] = data.apply(deposit, axis=1)\n",
        "    data[\"total_nights\"] = data[\"stays_in_weekend_nights\"]+ data[\"stays_in_week_nights\"]\n",
        "    return data\n",
        "\n",
        "data = feature(data)"
      ],
      "execution_count": 185,
      "outputs": []
    },
    {
      "cell_type": "code",
      "metadata": {
        "id": "SejIYqfLmoMD"
      },
      "source": [
        "# Information of these columns is also inside of new features, so it is better to drop them.\n",
        "# I did not drop stays_nights features, I can't decide which feature is more important there.\n",
        "data = data.drop(columns = ['adults', 'babies', 'children', 'deposit_type', 'reservation_status_date'])"
      ],
      "execution_count": 186,
      "outputs": []
    },
    {
      "cell_type": "markdown",
      "metadata": {
        "id": "folTofsTm8l8"
      },
      "source": [
        "After correlation we will decide what to do about country, agent and total_nights."
      ]
    },
    {
      "cell_type": "markdown",
      "metadata": {
        "id": "SdF34CtqnFIq"
      },
      "source": [
        "### **Correlation**"
      ]
    },
    {
      "cell_type": "code",
      "metadata": {
        "id": "OTCzsba-mst8",
        "outputId": "51d2a9d6-d423-4fb5-ad01-b9f3a1894da7",
        "colab": {
          "base_uri": "https://localhost:8080/"
        }
      },
      "source": [
        "data.columns"
      ],
      "execution_count": 187,
      "outputs": [
        {
          "output_type": "execute_result",
          "data": {
            "text/plain": [
              "Index(['hotel', 'is_canceled', 'lead_time', 'arrival_date_year',\n",
              "       'arrival_date_month', 'arrival_date_week_number',\n",
              "       'arrival_date_day_of_month', 'stays_in_weekend_nights',\n",
              "       'stays_in_week_nights', 'meal', 'country', 'market_segment',\n",
              "       'distribution_channel', 'is_repeated_guest', 'previous_cancellations',\n",
              "       'previous_bookings_not_canceled', 'reserved_room_type',\n",
              "       'assigned_room_type', 'booking_changes', 'agent',\n",
              "       'days_in_waiting_list', 'customer_type', 'adr',\n",
              "       'required_car_parking_spaces', 'total_of_special_requests',\n",
              "       'reservation_status', 'is_family', 'total_customer', 'deposit_given',\n",
              "       'total_nights'],\n",
              "      dtype='object')"
            ]
          },
          "metadata": {
            "tags": []
          },
          "execution_count": 187
        }
      ]
    },
    {
      "cell_type": "code",
      "metadata": {
        "id": "C6tX42DYmwo0"
      },
      "source": [
        "cor_data = data.copy()"
      ],
      "execution_count": 188,
      "outputs": []
    },
    {
      "cell_type": "code",
      "metadata": {
        "id": "Izr0aMTCmzig"
      },
      "source": [
        "le = LabelEncoder()"
      ],
      "execution_count": 189,
      "outputs": []
    },
    {
      "cell_type": "code",
      "metadata": {
        "id": "9TufKXUIm3lw"
      },
      "source": [
        " #This data will not be used while predicting cancellation. This is just for checking correlation.\n",
        "cor_data['meal'] = le.fit_transform(cor_data['meal'])\n",
        "cor_data['distribution_channel'] = le.fit_transform(cor_data['distribution_channel'])\n",
        "cor_data['reserved_room_type'] = le.fit_transform(cor_data['reserved_room_type'])\n",
        "cor_data['assigned_room_type'] = le.fit_transform(cor_data['assigned_room_type'])\n",
        "cor_data['agent'] = le.fit_transform(cor_data['agent'])\n",
        "cor_data['customer_type'] = le.fit_transform(cor_data['customer_type'])\n",
        "cor_data['reservation_status'] = le.fit_transform(cor_data['reservation_status'])\n",
        "cor_data['market_segment'] = le.fit_transform(cor_data['market_segment'])"
      ],
      "execution_count": 190,
      "outputs": []
    },
    {
      "cell_type": "code",
      "metadata": {
        "id": "FeH8qydim-AX",
        "outputId": "670a0dd2-ab37-4e36-b093-0dc9bd7850fa",
        "colab": {
          "base_uri": "https://localhost:8080/",
          "height": 951
        }
      },
      "source": [
        "cor_data.corr()"
      ],
      "execution_count": 191,
      "outputs": [
        {
          "output_type": "execute_result",
          "data": {
            "text/html": [
              "<div>\n",
              "<style scoped>\n",
              "    .dataframe tbody tr th:only-of-type {\n",
              "        vertical-align: middle;\n",
              "    }\n",
              "\n",
              "    .dataframe tbody tr th {\n",
              "        vertical-align: top;\n",
              "    }\n",
              "\n",
              "    .dataframe thead th {\n",
              "        text-align: right;\n",
              "    }\n",
              "</style>\n",
              "<table border=\"1\" class=\"dataframe\">\n",
              "  <thead>\n",
              "    <tr style=\"text-align: right;\">\n",
              "      <th></th>\n",
              "      <th>hotel</th>\n",
              "      <th>is_canceled</th>\n",
              "      <th>lead_time</th>\n",
              "      <th>arrival_date_year</th>\n",
              "      <th>arrival_date_month</th>\n",
              "      <th>arrival_date_week_number</th>\n",
              "      <th>arrival_date_day_of_month</th>\n",
              "      <th>stays_in_weekend_nights</th>\n",
              "      <th>stays_in_week_nights</th>\n",
              "      <th>meal</th>\n",
              "      <th>market_segment</th>\n",
              "      <th>distribution_channel</th>\n",
              "      <th>is_repeated_guest</th>\n",
              "      <th>previous_cancellations</th>\n",
              "      <th>previous_bookings_not_canceled</th>\n",
              "      <th>reserved_room_type</th>\n",
              "      <th>assigned_room_type</th>\n",
              "      <th>booking_changes</th>\n",
              "      <th>agent</th>\n",
              "      <th>days_in_waiting_list</th>\n",
              "      <th>customer_type</th>\n",
              "      <th>adr</th>\n",
              "      <th>required_car_parking_spaces</th>\n",
              "      <th>total_of_special_requests</th>\n",
              "      <th>reservation_status</th>\n",
              "      <th>is_family</th>\n",
              "      <th>total_customer</th>\n",
              "      <th>deposit_given</th>\n",
              "      <th>total_nights</th>\n",
              "    </tr>\n",
              "  </thead>\n",
              "  <tbody>\n",
              "    <tr>\n",
              "      <th>hotel</th>\n",
              "      <td>1.000000</td>\n",
              "      <td>0.136531</td>\n",
              "      <td>0.075381</td>\n",
              "      <td>0.035267</td>\n",
              "      <td>0.001817</td>\n",
              "      <td>0.001270</td>\n",
              "      <td>-0.001862</td>\n",
              "      <td>-0.186596</td>\n",
              "      <td>-0.234020</td>\n",
              "      <td>0.008018</td>\n",
              "      <td>0.083795</td>\n",
              "      <td>0.174419</td>\n",
              "      <td>-0.050421</td>\n",
              "      <td>-0.012292</td>\n",
              "      <td>-0.004441</td>\n",
              "      <td>-0.249677</td>\n",
              "      <td>-0.307834</td>\n",
              "      <td>-0.072820</td>\n",
              "      <td>-0.158500</td>\n",
              "      <td>0.072432</td>\n",
              "      <td>0.047531</td>\n",
              "      <td>0.096719</td>\n",
              "      <td>-0.218873</td>\n",
              "      <td>-0.043390</td>\n",
              "      <td>-0.124331</td>\n",
              "      <td>-0.058306</td>\n",
              "      <td>-0.040821</td>\n",
              "      <td>0.172003</td>\n",
              "      <td>-0.247479</td>\n",
              "    </tr>\n",
              "    <tr>\n",
              "      <th>is_canceled</th>\n",
              "      <td>0.136531</td>\n",
              "      <td>1.000000</td>\n",
              "      <td>0.293123</td>\n",
              "      <td>0.016660</td>\n",
              "      <td>0.011022</td>\n",
              "      <td>0.008148</td>\n",
              "      <td>-0.006130</td>\n",
              "      <td>-0.001791</td>\n",
              "      <td>0.024765</td>\n",
              "      <td>-0.017678</td>\n",
              "      <td>0.059338</td>\n",
              "      <td>0.167600</td>\n",
              "      <td>-0.084793</td>\n",
              "      <td>0.110133</td>\n",
              "      <td>-0.057358</td>\n",
              "      <td>-0.061282</td>\n",
              "      <td>-0.176028</td>\n",
              "      <td>-0.144381</td>\n",
              "      <td>-0.127883</td>\n",
              "      <td>0.054186</td>\n",
              "      <td>-0.068140</td>\n",
              "      <td>0.047557</td>\n",
              "      <td>-0.195498</td>\n",
              "      <td>-0.234658</td>\n",
              "      <td>-0.917196</td>\n",
              "      <td>-0.013010</td>\n",
              "      <td>0.046522</td>\n",
              "      <td>0.481457</td>\n",
              "      <td>0.017779</td>\n",
              "    </tr>\n",
              "    <tr>\n",
              "      <th>lead_time</th>\n",
              "      <td>0.075381</td>\n",
              "      <td>0.293123</td>\n",
              "      <td>1.000000</td>\n",
              "      <td>0.040142</td>\n",
              "      <td>0.131424</td>\n",
              "      <td>0.126871</td>\n",
              "      <td>0.002268</td>\n",
              "      <td>0.085671</td>\n",
              "      <td>0.165799</td>\n",
              "      <td>0.000349</td>\n",
              "      <td>0.013797</td>\n",
              "      <td>0.220414</td>\n",
              "      <td>-0.124410</td>\n",
              "      <td>0.086042</td>\n",
              "      <td>-0.073548</td>\n",
              "      <td>-0.106089</td>\n",
              "      <td>-0.172219</td>\n",
              "      <td>0.000149</td>\n",
              "      <td>-0.171430</td>\n",
              "      <td>0.170084</td>\n",
              "      <td>0.073403</td>\n",
              "      <td>-0.063077</td>\n",
              "      <td>-0.116451</td>\n",
              "      <td>-0.095712</td>\n",
              "      <td>-0.302175</td>\n",
              "      <td>-0.043972</td>\n",
              "      <td>0.072265</td>\n",
              "      <td>0.380179</td>\n",
              "      <td>0.157167</td>\n",
              "    </tr>\n",
              "    <tr>\n",
              "      <th>arrival_date_year</th>\n",
              "      <td>0.035267</td>\n",
              "      <td>0.016660</td>\n",
              "      <td>0.040142</td>\n",
              "      <td>1.000000</td>\n",
              "      <td>-0.527739</td>\n",
              "      <td>-0.540561</td>\n",
              "      <td>-0.000221</td>\n",
              "      <td>0.021497</td>\n",
              "      <td>0.030883</td>\n",
              "      <td>0.065840</td>\n",
              "      <td>0.107697</td>\n",
              "      <td>0.022644</td>\n",
              "      <td>0.010341</td>\n",
              "      <td>-0.119822</td>\n",
              "      <td>0.029218</td>\n",
              "      <td>0.092809</td>\n",
              "      <td>0.036141</td>\n",
              "      <td>0.030872</td>\n",
              "      <td>-0.017723</td>\n",
              "      <td>-0.056497</td>\n",
              "      <td>-0.006149</td>\n",
              "      <td>0.197580</td>\n",
              "      <td>-0.013684</td>\n",
              "      <td>0.108531</td>\n",
              "      <td>-0.017683</td>\n",
              "      <td>0.052711</td>\n",
              "      <td>0.052127</td>\n",
              "      <td>-0.065963</td>\n",
              "      <td>0.031438</td>\n",
              "    </tr>\n",
              "    <tr>\n",
              "      <th>arrival_date_month</th>\n",
              "      <td>0.001817</td>\n",
              "      <td>0.011022</td>\n",
              "      <td>0.131424</td>\n",
              "      <td>-0.527739</td>\n",
              "      <td>1.000000</td>\n",
              "      <td>0.995105</td>\n",
              "      <td>-0.026063</td>\n",
              "      <td>0.018440</td>\n",
              "      <td>0.019212</td>\n",
              "      <td>-0.015205</td>\n",
              "      <td>0.001293</td>\n",
              "      <td>0.007381</td>\n",
              "      <td>-0.030729</td>\n",
              "      <td>0.037479</td>\n",
              "      <td>-0.021640</td>\n",
              "      <td>-0.007923</td>\n",
              "      <td>-0.006378</td>\n",
              "      <td>0.004809</td>\n",
              "      <td>-0.000799</td>\n",
              "      <td>0.019045</td>\n",
              "      <td>-0.029753</td>\n",
              "      <td>0.079315</td>\n",
              "      <td>0.000257</td>\n",
              "      <td>0.028026</td>\n",
              "      <td>-0.021090</td>\n",
              "      <td>0.010427</td>\n",
              "      <td>0.027252</td>\n",
              "      <td>0.008746</td>\n",
              "      <td>0.021536</td>\n",
              "    </tr>\n",
              "    <tr>\n",
              "      <th>arrival_date_week_number</th>\n",
              "      <td>0.001270</td>\n",
              "      <td>0.008148</td>\n",
              "      <td>0.126871</td>\n",
              "      <td>-0.540561</td>\n",
              "      <td>0.995105</td>\n",
              "      <td>1.000000</td>\n",
              "      <td>0.066809</td>\n",
              "      <td>0.018208</td>\n",
              "      <td>0.015558</td>\n",
              "      <td>-0.017381</td>\n",
              "      <td>-0.000510</td>\n",
              "      <td>0.005699</td>\n",
              "      <td>-0.030131</td>\n",
              "      <td>0.035501</td>\n",
              "      <td>-0.020904</td>\n",
              "      <td>-0.007997</td>\n",
              "      <td>-0.005684</td>\n",
              "      <td>0.005508</td>\n",
              "      <td>0.001638</td>\n",
              "      <td>0.022933</td>\n",
              "      <td>-0.028432</td>\n",
              "      <td>0.075791</td>\n",
              "      <td>0.001920</td>\n",
              "      <td>0.026149</td>\n",
              "      <td>-0.017387</td>\n",
              "      <td>0.010611</td>\n",
              "      <td>0.025220</td>\n",
              "      <td>0.007773</td>\n",
              "      <td>0.018719</td>\n",
              "    </tr>\n",
              "    <tr>\n",
              "      <th>arrival_date_day_of_month</th>\n",
              "      <td>-0.001862</td>\n",
              "      <td>-0.006130</td>\n",
              "      <td>0.002268</td>\n",
              "      <td>-0.000221</td>\n",
              "      <td>-0.026063</td>\n",
              "      <td>0.066809</td>\n",
              "      <td>1.000000</td>\n",
              "      <td>-0.016354</td>\n",
              "      <td>-0.028174</td>\n",
              "      <td>-0.007086</td>\n",
              "      <td>-0.004088</td>\n",
              "      <td>0.001578</td>\n",
              "      <td>-0.006145</td>\n",
              "      <td>-0.027011</td>\n",
              "      <td>-0.000300</td>\n",
              "      <td>0.016929</td>\n",
              "      <td>0.011646</td>\n",
              "      <td>0.010613</td>\n",
              "      <td>-0.002271</td>\n",
              "      <td>0.022728</td>\n",
              "      <td>0.012188</td>\n",
              "      <td>0.030245</td>\n",
              "      <td>0.008683</td>\n",
              "      <td>0.003062</td>\n",
              "      <td>0.011460</td>\n",
              "      <td>0.014710</td>\n",
              "      <td>0.006742</td>\n",
              "      <td>-0.008616</td>\n",
              "      <td>-0.027408</td>\n",
              "    </tr>\n",
              "    <tr>\n",
              "      <th>stays_in_weekend_nights</th>\n",
              "      <td>-0.186596</td>\n",
              "      <td>-0.001791</td>\n",
              "      <td>0.085671</td>\n",
              "      <td>0.021497</td>\n",
              "      <td>0.018440</td>\n",
              "      <td>0.018208</td>\n",
              "      <td>-0.016354</td>\n",
              "      <td>1.000000</td>\n",
              "      <td>0.498969</td>\n",
              "      <td>0.045744</td>\n",
              "      <td>0.115350</td>\n",
              "      <td>0.093097</td>\n",
              "      <td>-0.087239</td>\n",
              "      <td>-0.012775</td>\n",
              "      <td>-0.042715</td>\n",
              "      <td>0.142083</td>\n",
              "      <td>0.086643</td>\n",
              "      <td>0.063281</td>\n",
              "      <td>-0.110284</td>\n",
              "      <td>-0.054151</td>\n",
              "      <td>-0.109220</td>\n",
              "      <td>0.049342</td>\n",
              "      <td>-0.018554</td>\n",
              "      <td>0.072671</td>\n",
              "      <td>0.008558</td>\n",
              "      <td>0.052306</td>\n",
              "      <td>0.101426</td>\n",
              "      <td>-0.114275</td>\n",
              "      <td>0.762790</td>\n",
              "    </tr>\n",
              "    <tr>\n",
              "      <th>stays_in_week_nights</th>\n",
              "      <td>-0.234020</td>\n",
              "      <td>0.024765</td>\n",
              "      <td>0.165799</td>\n",
              "      <td>0.030883</td>\n",
              "      <td>0.019212</td>\n",
              "      <td>0.015558</td>\n",
              "      <td>-0.028174</td>\n",
              "      <td>0.498969</td>\n",
              "      <td>1.000000</td>\n",
              "      <td>0.036742</td>\n",
              "      <td>0.108569</td>\n",
              "      <td>0.087185</td>\n",
              "      <td>-0.097245</td>\n",
              "      <td>-0.013992</td>\n",
              "      <td>-0.048743</td>\n",
              "      <td>0.168616</td>\n",
              "      <td>0.100795</td>\n",
              "      <td>0.096209</td>\n",
              "      <td>-0.110354</td>\n",
              "      <td>-0.002020</td>\n",
              "      <td>-0.127223</td>\n",
              "      <td>0.065237</td>\n",
              "      <td>-0.024859</td>\n",
              "      <td>0.068192</td>\n",
              "      <td>-0.021607</td>\n",
              "      <td>0.050424</td>\n",
              "      <td>0.101665</td>\n",
              "      <td>-0.079999</td>\n",
              "      <td>0.941005</td>\n",
              "    </tr>\n",
              "    <tr>\n",
              "      <th>meal</th>\n",
              "      <td>0.008018</td>\n",
              "      <td>-0.017678</td>\n",
              "      <td>0.000349</td>\n",
              "      <td>0.065840</td>\n",
              "      <td>-0.015205</td>\n",
              "      <td>-0.017381</td>\n",
              "      <td>-0.007086</td>\n",
              "      <td>0.045744</td>\n",
              "      <td>0.036742</td>\n",
              "      <td>1.000000</td>\n",
              "      <td>0.145132</td>\n",
              "      <td>0.116957</td>\n",
              "      <td>-0.057009</td>\n",
              "      <td>-0.003772</td>\n",
              "      <td>-0.040417</td>\n",
              "      <td>-0.120749</td>\n",
              "      <td>-0.120792</td>\n",
              "      <td>0.024650</td>\n",
              "      <td>-0.095428</td>\n",
              "      <td>-0.007132</td>\n",
              "      <td>0.044658</td>\n",
              "      <td>0.059098</td>\n",
              "      <td>-0.038923</td>\n",
              "      <td>0.023136</td>\n",
              "      <td>0.015393</td>\n",
              "      <td>-0.041727</td>\n",
              "      <td>-0.005975</td>\n",
              "      <td>-0.090725</td>\n",
              "      <td>0.045277</td>\n",
              "    </tr>\n",
              "    <tr>\n",
              "      <th>market_segment</th>\n",
              "      <td>0.083795</td>\n",
              "      <td>0.059338</td>\n",
              "      <td>0.013797</td>\n",
              "      <td>0.107697</td>\n",
              "      <td>0.001293</td>\n",
              "      <td>-0.000510</td>\n",
              "      <td>-0.004088</td>\n",
              "      <td>0.115350</td>\n",
              "      <td>0.108569</td>\n",
              "      <td>0.145132</td>\n",
              "      <td>1.000000</td>\n",
              "      <td>0.767751</td>\n",
              "      <td>-0.250286</td>\n",
              "      <td>-0.059645</td>\n",
              "      <td>-0.179589</td>\n",
              "      <td>0.094540</td>\n",
              "      <td>0.026377</td>\n",
              "      <td>-0.071818</td>\n",
              "      <td>-0.533820</td>\n",
              "      <td>-0.041503</td>\n",
              "      <td>-0.165814</td>\n",
              "      <td>0.232763</td>\n",
              "      <td>-0.062226</td>\n",
              "      <td>0.274373</td>\n",
              "      <td>-0.061584</td>\n",
              "      <td>0.080450</td>\n",
              "      <td>0.213221</td>\n",
              "      <td>-0.183880</td>\n",
              "      <td>0.126052</td>\n",
              "    </tr>\n",
              "    <tr>\n",
              "      <th>distribution_channel</th>\n",
              "      <td>0.174419</td>\n",
              "      <td>0.167600</td>\n",
              "      <td>0.220414</td>\n",
              "      <td>0.022644</td>\n",
              "      <td>0.007381</td>\n",
              "      <td>0.005699</td>\n",
              "      <td>0.001578</td>\n",
              "      <td>0.093097</td>\n",
              "      <td>0.087185</td>\n",
              "      <td>0.116957</td>\n",
              "      <td>0.767751</td>\n",
              "      <td>1.000000</td>\n",
              "      <td>-0.263219</td>\n",
              "      <td>-0.022483</td>\n",
              "      <td>-0.204731</td>\n",
              "      <td>-0.041720</td>\n",
              "      <td>-0.104502</td>\n",
              "      <td>-0.113601</td>\n",
              "      <td>-0.591170</td>\n",
              "      <td>0.048642</td>\n",
              "      <td>-0.069640</td>\n",
              "      <td>0.092396</td>\n",
              "      <td>-0.132280</td>\n",
              "      <td>0.098815</td>\n",
              "      <td>-0.171330</td>\n",
              "      <td>0.000464</td>\n",
              "      <td>0.144357</td>\n",
              "      <td>0.102548</td>\n",
              "      <td>0.101407</td>\n",
              "    </tr>\n",
              "    <tr>\n",
              "      <th>is_repeated_guest</th>\n",
              "      <td>-0.050421</td>\n",
              "      <td>-0.084793</td>\n",
              "      <td>-0.124410</td>\n",
              "      <td>0.010341</td>\n",
              "      <td>-0.030729</td>\n",
              "      <td>-0.030131</td>\n",
              "      <td>-0.006145</td>\n",
              "      <td>-0.087239</td>\n",
              "      <td>-0.097245</td>\n",
              "      <td>-0.057009</td>\n",
              "      <td>-0.250286</td>\n",
              "      <td>-0.263219</td>\n",
              "      <td>1.000000</td>\n",
              "      <td>0.082293</td>\n",
              "      <td>0.418056</td>\n",
              "      <td>-0.029537</td>\n",
              "      <td>0.032441</td>\n",
              "      <td>0.012092</td>\n",
              "      <td>0.280246</td>\n",
              "      <td>-0.022235</td>\n",
              "      <td>-0.017111</td>\n",
              "      <td>-0.134314</td>\n",
              "      <td>0.077090</td>\n",
              "      <td>0.013050</td>\n",
              "      <td>0.083504</td>\n",
              "      <td>-0.035127</td>\n",
              "      <td>-0.136748</td>\n",
              "      <td>-0.058423</td>\n",
              "      <td>-0.106626</td>\n",
              "    </tr>\n",
              "    <tr>\n",
              "      <th>previous_cancellations</th>\n",
              "      <td>-0.012292</td>\n",
              "      <td>0.110133</td>\n",
              "      <td>0.086042</td>\n",
              "      <td>-0.119822</td>\n",
              "      <td>0.037479</td>\n",
              "      <td>0.035501</td>\n",
              "      <td>-0.027011</td>\n",
              "      <td>-0.012775</td>\n",
              "      <td>-0.013992</td>\n",
              "      <td>-0.003772</td>\n",
              "      <td>-0.059645</td>\n",
              "      <td>-0.022483</td>\n",
              "      <td>0.082293</td>\n",
              "      <td>1.000000</td>\n",
              "      <td>0.152728</td>\n",
              "      <td>-0.048809</td>\n",
              "      <td>-0.058457</td>\n",
              "      <td>-0.026993</td>\n",
              "      <td>0.036107</td>\n",
              "      <td>0.005929</td>\n",
              "      <td>-0.008188</td>\n",
              "      <td>-0.065646</td>\n",
              "      <td>-0.018492</td>\n",
              "      <td>-0.048384</td>\n",
              "      <td>-0.110758</td>\n",
              "      <td>-0.027262</td>\n",
              "      <td>-0.020058</td>\n",
              "      <td>0.143314</td>\n",
              "      <td>-0.015429</td>\n",
              "    </tr>\n",
              "    <tr>\n",
              "      <th>previous_bookings_not_canceled</th>\n",
              "      <td>-0.004441</td>\n",
              "      <td>-0.057358</td>\n",
              "      <td>-0.073548</td>\n",
              "      <td>0.029218</td>\n",
              "      <td>-0.021640</td>\n",
              "      <td>-0.020904</td>\n",
              "      <td>-0.000300</td>\n",
              "      <td>-0.042715</td>\n",
              "      <td>-0.048743</td>\n",
              "      <td>-0.040417</td>\n",
              "      <td>-0.179589</td>\n",
              "      <td>-0.204731</td>\n",
              "      <td>0.418056</td>\n",
              "      <td>0.152728</td>\n",
              "      <td>1.000000</td>\n",
              "      <td>-0.021771</td>\n",
              "      <td>0.003133</td>\n",
              "      <td>0.011608</td>\n",
              "      <td>0.166499</td>\n",
              "      <td>-0.009397</td>\n",
              "      <td>-0.012259</td>\n",
              "      <td>-0.072144</td>\n",
              "      <td>0.047653</td>\n",
              "      <td>0.037824</td>\n",
              "      <td>0.055051</td>\n",
              "      <td>-0.022815</td>\n",
              "      <td>-0.099097</td>\n",
              "      <td>-0.031509</td>\n",
              "      <td>-0.053049</td>\n",
              "    </tr>\n",
              "    <tr>\n",
              "      <th>reserved_room_type</th>\n",
              "      <td>-0.249677</td>\n",
              "      <td>-0.061282</td>\n",
              "      <td>-0.106089</td>\n",
              "      <td>0.092809</td>\n",
              "      <td>-0.007923</td>\n",
              "      <td>-0.007997</td>\n",
              "      <td>0.016929</td>\n",
              "      <td>0.142083</td>\n",
              "      <td>0.168616</td>\n",
              "      <td>-0.120749</td>\n",
              "      <td>0.094540</td>\n",
              "      <td>-0.041720</td>\n",
              "      <td>-0.029537</td>\n",
              "      <td>-0.048809</td>\n",
              "      <td>-0.021771</td>\n",
              "      <td>1.000000</td>\n",
              "      <td>0.814005</td>\n",
              "      <td>0.045060</td>\n",
              "      <td>-0.020075</td>\n",
              "      <td>-0.068821</td>\n",
              "      <td>-0.120978</td>\n",
              "      <td>0.392060</td>\n",
              "      <td>0.131583</td>\n",
              "      <td>0.137466</td>\n",
              "      <td>0.058693</td>\n",
              "      <td>0.323910</td>\n",
              "      <td>0.383357</td>\n",
              "      <td>-0.201348</td>\n",
              "      <td>0.181296</td>\n",
              "    </tr>\n",
              "    <tr>\n",
              "      <th>assigned_room_type</th>\n",
              "      <td>-0.307834</td>\n",
              "      <td>-0.176028</td>\n",
              "      <td>-0.172219</td>\n",
              "      <td>0.036141</td>\n",
              "      <td>-0.006378</td>\n",
              "      <td>-0.005684</td>\n",
              "      <td>0.011646</td>\n",
              "      <td>0.086643</td>\n",
              "      <td>0.100795</td>\n",
              "      <td>-0.120792</td>\n",
              "      <td>0.026377</td>\n",
              "      <td>-0.104502</td>\n",
              "      <td>0.032441</td>\n",
              "      <td>-0.058457</td>\n",
              "      <td>0.003133</td>\n",
              "      <td>0.814005</td>\n",
              "      <td>1.000000</td>\n",
              "      <td>0.096162</td>\n",
              "      <td>0.052649</td>\n",
              "      <td>-0.068676</td>\n",
              "      <td>-0.084427</td>\n",
              "      <td>0.258134</td>\n",
              "      <td>0.160131</td>\n",
              "      <td>0.124683</td>\n",
              "      <td>0.172537</td>\n",
              "      <td>0.292940</td>\n",
              "      <td>0.302422</td>\n",
              "      <td>-0.246602</td>\n",
              "      <td>0.109042</td>\n",
              "    </tr>\n",
              "    <tr>\n",
              "      <th>booking_changes</th>\n",
              "      <td>-0.072820</td>\n",
              "      <td>-0.144381</td>\n",
              "      <td>0.000149</td>\n",
              "      <td>0.030872</td>\n",
              "      <td>0.004809</td>\n",
              "      <td>0.005508</td>\n",
              "      <td>0.010613</td>\n",
              "      <td>0.063281</td>\n",
              "      <td>0.096209</td>\n",
              "      <td>0.024650</td>\n",
              "      <td>-0.071818</td>\n",
              "      <td>-0.113601</td>\n",
              "      <td>0.012092</td>\n",
              "      <td>-0.026993</td>\n",
              "      <td>0.011608</td>\n",
              "      <td>0.045060</td>\n",
              "      <td>0.096162</td>\n",
              "      <td>1.000000</td>\n",
              "      <td>0.063937</td>\n",
              "      <td>-0.011634</td>\n",
              "      <td>0.092029</td>\n",
              "      <td>0.019618</td>\n",
              "      <td>0.065620</td>\n",
              "      <td>0.052833</td>\n",
              "      <td>0.140799</td>\n",
              "      <td>0.079121</td>\n",
              "      <td>-0.003173</td>\n",
              "      <td>-0.119333</td>\n",
              "      <td>0.096498</td>\n",
              "    </tr>\n",
              "    <tr>\n",
              "      <th>agent</th>\n",
              "      <td>-0.158500</td>\n",
              "      <td>-0.127883</td>\n",
              "      <td>-0.171430</td>\n",
              "      <td>-0.017723</td>\n",
              "      <td>-0.000799</td>\n",
              "      <td>0.001638</td>\n",
              "      <td>-0.002271</td>\n",
              "      <td>-0.110284</td>\n",
              "      <td>-0.110354</td>\n",
              "      <td>-0.095428</td>\n",
              "      <td>-0.533820</td>\n",
              "      <td>-0.591170</td>\n",
              "      <td>0.280246</td>\n",
              "      <td>0.036107</td>\n",
              "      <td>0.166499</td>\n",
              "      <td>-0.020075</td>\n",
              "      <td>0.052649</td>\n",
              "      <td>0.063937</td>\n",
              "      <td>1.000000</td>\n",
              "      <td>-0.039667</td>\n",
              "      <td>0.066095</td>\n",
              "      <td>-0.126407</td>\n",
              "      <td>0.113648</td>\n",
              "      <td>-0.085429</td>\n",
              "      <td>0.123264</td>\n",
              "      <td>-0.032656</td>\n",
              "      <td>-0.155423</td>\n",
              "      <td>-0.013898</td>\n",
              "      <td>-0.125406</td>\n",
              "    </tr>\n",
              "    <tr>\n",
              "      <th>days_in_waiting_list</th>\n",
              "      <td>0.072432</td>\n",
              "      <td>0.054186</td>\n",
              "      <td>0.170084</td>\n",
              "      <td>-0.056497</td>\n",
              "      <td>0.019045</td>\n",
              "      <td>0.022933</td>\n",
              "      <td>0.022728</td>\n",
              "      <td>-0.054151</td>\n",
              "      <td>-0.002020</td>\n",
              "      <td>-0.007132</td>\n",
              "      <td>-0.041503</td>\n",
              "      <td>0.048642</td>\n",
              "      <td>-0.022235</td>\n",
              "      <td>0.005929</td>\n",
              "      <td>-0.009397</td>\n",
              "      <td>-0.068821</td>\n",
              "      <td>-0.068676</td>\n",
              "      <td>-0.011634</td>\n",
              "      <td>-0.039667</td>\n",
              "      <td>1.000000</td>\n",
              "      <td>0.099121</td>\n",
              "      <td>-0.040756</td>\n",
              "      <td>-0.030600</td>\n",
              "      <td>-0.082730</td>\n",
              "      <td>-0.057927</td>\n",
              "      <td>-0.036312</td>\n",
              "      <td>-0.026431</td>\n",
              "      <td>0.120249</td>\n",
              "      <td>-0.022652</td>\n",
              "    </tr>\n",
              "    <tr>\n",
              "      <th>customer_type</th>\n",
              "      <td>0.047531</td>\n",
              "      <td>-0.068140</td>\n",
              "      <td>0.073403</td>\n",
              "      <td>-0.006149</td>\n",
              "      <td>-0.029753</td>\n",
              "      <td>-0.028432</td>\n",
              "      <td>0.012188</td>\n",
              "      <td>-0.109220</td>\n",
              "      <td>-0.127223</td>\n",
              "      <td>0.044658</td>\n",
              "      <td>-0.165814</td>\n",
              "      <td>-0.069640</td>\n",
              "      <td>-0.017111</td>\n",
              "      <td>-0.008188</td>\n",
              "      <td>-0.012259</td>\n",
              "      <td>-0.120978</td>\n",
              "      <td>-0.084427</td>\n",
              "      <td>0.092029</td>\n",
              "      <td>0.066095</td>\n",
              "      <td>0.099121</td>\n",
              "      <td>1.000000</td>\n",
              "      <td>-0.077155</td>\n",
              "      <td>-0.030060</td>\n",
              "      <td>-0.135624</td>\n",
              "      <td>0.066004</td>\n",
              "      <td>-0.060139</td>\n",
              "      <td>-0.113232</td>\n",
              "      <td>-0.086745</td>\n",
              "      <td>-0.137577</td>\n",
              "    </tr>\n",
              "    <tr>\n",
              "      <th>adr</th>\n",
              "      <td>0.096719</td>\n",
              "      <td>0.047557</td>\n",
              "      <td>-0.063077</td>\n",
              "      <td>0.197580</td>\n",
              "      <td>0.079315</td>\n",
              "      <td>0.075791</td>\n",
              "      <td>0.030245</td>\n",
              "      <td>0.049342</td>\n",
              "      <td>0.065237</td>\n",
              "      <td>0.059098</td>\n",
              "      <td>0.232763</td>\n",
              "      <td>0.092396</td>\n",
              "      <td>-0.134314</td>\n",
              "      <td>-0.065646</td>\n",
              "      <td>-0.072144</td>\n",
              "      <td>0.392060</td>\n",
              "      <td>0.258134</td>\n",
              "      <td>0.019618</td>\n",
              "      <td>-0.126407</td>\n",
              "      <td>-0.040756</td>\n",
              "      <td>-0.077155</td>\n",
              "      <td>1.000000</td>\n",
              "      <td>0.056628</td>\n",
              "      <td>0.172185</td>\n",
              "      <td>-0.050520</td>\n",
              "      <td>0.309360</td>\n",
              "      <td>0.368105</td>\n",
              "      <td>-0.087608</td>\n",
              "      <td>0.067945</td>\n",
              "    </tr>\n",
              "    <tr>\n",
              "      <th>required_car_parking_spaces</th>\n",
              "      <td>-0.218873</td>\n",
              "      <td>-0.195498</td>\n",
              "      <td>-0.116451</td>\n",
              "      <td>-0.013684</td>\n",
              "      <td>0.000257</td>\n",
              "      <td>0.001920</td>\n",
              "      <td>0.008683</td>\n",
              "      <td>-0.018554</td>\n",
              "      <td>-0.024859</td>\n",
              "      <td>-0.038923</td>\n",
              "      <td>-0.062226</td>\n",
              "      <td>-0.132280</td>\n",
              "      <td>0.077090</td>\n",
              "      <td>-0.018492</td>\n",
              "      <td>0.047653</td>\n",
              "      <td>0.131583</td>\n",
              "      <td>0.160131</td>\n",
              "      <td>0.065620</td>\n",
              "      <td>0.113648</td>\n",
              "      <td>-0.030600</td>\n",
              "      <td>-0.030060</td>\n",
              "      <td>0.056628</td>\n",
              "      <td>1.000000</td>\n",
              "      <td>0.082626</td>\n",
              "      <td>0.179310</td>\n",
              "      <td>0.069141</td>\n",
              "      <td>0.047934</td>\n",
              "      <td>-0.094982</td>\n",
              "      <td>-0.025794</td>\n",
              "    </tr>\n",
              "    <tr>\n",
              "      <th>total_of_special_requests</th>\n",
              "      <td>-0.043390</td>\n",
              "      <td>-0.234658</td>\n",
              "      <td>-0.095712</td>\n",
              "      <td>0.108531</td>\n",
              "      <td>0.028026</td>\n",
              "      <td>0.026149</td>\n",
              "      <td>0.003062</td>\n",
              "      <td>0.072671</td>\n",
              "      <td>0.068192</td>\n",
              "      <td>0.023136</td>\n",
              "      <td>0.274373</td>\n",
              "      <td>0.098815</td>\n",
              "      <td>0.013050</td>\n",
              "      <td>-0.048384</td>\n",
              "      <td>0.037824</td>\n",
              "      <td>0.137466</td>\n",
              "      <td>0.124683</td>\n",
              "      <td>0.052833</td>\n",
              "      <td>-0.085429</td>\n",
              "      <td>-0.082730</td>\n",
              "      <td>-0.135624</td>\n",
              "      <td>0.172185</td>\n",
              "      <td>0.082626</td>\n",
              "      <td>1.000000</td>\n",
              "      <td>0.225674</td>\n",
              "      <td>0.128205</td>\n",
              "      <td>0.156834</td>\n",
              "      <td>-0.268034</td>\n",
              "      <td>0.079259</td>\n",
              "    </tr>\n",
              "    <tr>\n",
              "      <th>reservation_status</th>\n",
              "      <td>-0.124331</td>\n",
              "      <td>-0.917196</td>\n",
              "      <td>-0.302175</td>\n",
              "      <td>-0.017683</td>\n",
              "      <td>-0.021090</td>\n",
              "      <td>-0.017387</td>\n",
              "      <td>0.011460</td>\n",
              "      <td>0.008558</td>\n",
              "      <td>-0.021607</td>\n",
              "      <td>0.015393</td>\n",
              "      <td>-0.061584</td>\n",
              "      <td>-0.171330</td>\n",
              "      <td>0.083504</td>\n",
              "      <td>-0.110758</td>\n",
              "      <td>0.055051</td>\n",
              "      <td>0.058693</td>\n",
              "      <td>0.172537</td>\n",
              "      <td>0.140799</td>\n",
              "      <td>0.123264</td>\n",
              "      <td>-0.057927</td>\n",
              "      <td>0.066004</td>\n",
              "      <td>-0.050520</td>\n",
              "      <td>0.179310</td>\n",
              "      <td>0.225674</td>\n",
              "      <td>1.000000</td>\n",
              "      <td>0.013117</td>\n",
              "      <td>-0.055273</td>\n",
              "      <td>-0.478747</td>\n",
              "      <td>-0.012781</td>\n",
              "    </tr>\n",
              "    <tr>\n",
              "      <th>is_family</th>\n",
              "      <td>-0.058306</td>\n",
              "      <td>-0.013010</td>\n",
              "      <td>-0.043972</td>\n",
              "      <td>0.052711</td>\n",
              "      <td>0.010427</td>\n",
              "      <td>0.010611</td>\n",
              "      <td>0.014710</td>\n",
              "      <td>0.052306</td>\n",
              "      <td>0.050424</td>\n",
              "      <td>-0.041727</td>\n",
              "      <td>0.080450</td>\n",
              "      <td>0.000464</td>\n",
              "      <td>-0.035127</td>\n",
              "      <td>-0.027262</td>\n",
              "      <td>-0.022815</td>\n",
              "      <td>0.323910</td>\n",
              "      <td>0.292940</td>\n",
              "      <td>0.079121</td>\n",
              "      <td>-0.032656</td>\n",
              "      <td>-0.036312</td>\n",
              "      <td>-0.060139</td>\n",
              "      <td>0.309360</td>\n",
              "      <td>0.069141</td>\n",
              "      <td>0.128205</td>\n",
              "      <td>0.013117</td>\n",
              "      <td>1.000000</td>\n",
              "      <td>0.579899</td>\n",
              "      <td>-0.106643</td>\n",
              "      <td>0.058049</td>\n",
              "    </tr>\n",
              "    <tr>\n",
              "      <th>total_customer</th>\n",
              "      <td>-0.040821</td>\n",
              "      <td>0.046522</td>\n",
              "      <td>0.072265</td>\n",
              "      <td>0.052127</td>\n",
              "      <td>0.027252</td>\n",
              "      <td>0.025220</td>\n",
              "      <td>0.006742</td>\n",
              "      <td>0.101426</td>\n",
              "      <td>0.101665</td>\n",
              "      <td>-0.005975</td>\n",
              "      <td>0.213221</td>\n",
              "      <td>0.144357</td>\n",
              "      <td>-0.136748</td>\n",
              "      <td>-0.020058</td>\n",
              "      <td>-0.099097</td>\n",
              "      <td>0.383357</td>\n",
              "      <td>0.302422</td>\n",
              "      <td>-0.003173</td>\n",
              "      <td>-0.155423</td>\n",
              "      <td>-0.026431</td>\n",
              "      <td>-0.113232</td>\n",
              "      <td>0.368105</td>\n",
              "      <td>0.047934</td>\n",
              "      <td>0.156834</td>\n",
              "      <td>-0.055273</td>\n",
              "      <td>0.579899</td>\n",
              "      <td>1.000000</td>\n",
              "      <td>-0.080676</td>\n",
              "      <td>0.115463</td>\n",
              "    </tr>\n",
              "    <tr>\n",
              "      <th>deposit_given</th>\n",
              "      <td>0.172003</td>\n",
              "      <td>0.481457</td>\n",
              "      <td>0.380179</td>\n",
              "      <td>-0.065963</td>\n",
              "      <td>0.008746</td>\n",
              "      <td>0.007773</td>\n",
              "      <td>-0.008616</td>\n",
              "      <td>-0.114275</td>\n",
              "      <td>-0.079999</td>\n",
              "      <td>-0.090725</td>\n",
              "      <td>-0.183880</td>\n",
              "      <td>0.102548</td>\n",
              "      <td>-0.058423</td>\n",
              "      <td>0.143314</td>\n",
              "      <td>-0.031509</td>\n",
              "      <td>-0.201348</td>\n",
              "      <td>-0.246602</td>\n",
              "      <td>-0.119333</td>\n",
              "      <td>-0.013898</td>\n",
              "      <td>0.120249</td>\n",
              "      <td>-0.086745</td>\n",
              "      <td>-0.087608</td>\n",
              "      <td>-0.094982</td>\n",
              "      <td>-0.268034</td>\n",
              "      <td>-0.478747</td>\n",
              "      <td>-0.106643</td>\n",
              "      <td>-0.080676</td>\n",
              "      <td>1.000000</td>\n",
              "      <td>-0.104314</td>\n",
              "    </tr>\n",
              "    <tr>\n",
              "      <th>total_nights</th>\n",
              "      <td>-0.247479</td>\n",
              "      <td>0.017779</td>\n",
              "      <td>0.157167</td>\n",
              "      <td>0.031438</td>\n",
              "      <td>0.021536</td>\n",
              "      <td>0.018719</td>\n",
              "      <td>-0.027408</td>\n",
              "      <td>0.762790</td>\n",
              "      <td>0.941005</td>\n",
              "      <td>0.045277</td>\n",
              "      <td>0.126052</td>\n",
              "      <td>0.101407</td>\n",
              "      <td>-0.106626</td>\n",
              "      <td>-0.015429</td>\n",
              "      <td>-0.053049</td>\n",
              "      <td>0.181296</td>\n",
              "      <td>0.109042</td>\n",
              "      <td>0.096498</td>\n",
              "      <td>-0.125406</td>\n",
              "      <td>-0.022652</td>\n",
              "      <td>-0.137577</td>\n",
              "      <td>0.067945</td>\n",
              "      <td>-0.025794</td>\n",
              "      <td>0.079259</td>\n",
              "      <td>-0.012781</td>\n",
              "      <td>0.058049</td>\n",
              "      <td>0.115463</td>\n",
              "      <td>-0.104314</td>\n",
              "      <td>1.000000</td>\n",
              "    </tr>\n",
              "  </tbody>\n",
              "</table>\n",
              "</div>"
            ],
            "text/plain": [
              "                                   hotel  ...  total_nights\n",
              "hotel                           1.000000  ...     -0.247479\n",
              "is_canceled                     0.136531  ...      0.017779\n",
              "lead_time                       0.075381  ...      0.157167\n",
              "arrival_date_year               0.035267  ...      0.031438\n",
              "arrival_date_month              0.001817  ...      0.021536\n",
              "arrival_date_week_number        0.001270  ...      0.018719\n",
              "arrival_date_day_of_month      -0.001862  ...     -0.027408\n",
              "stays_in_weekend_nights        -0.186596  ...      0.762790\n",
              "stays_in_week_nights           -0.234020  ...      0.941005\n",
              "meal                            0.008018  ...      0.045277\n",
              "market_segment                  0.083795  ...      0.126052\n",
              "distribution_channel            0.174419  ...      0.101407\n",
              "is_repeated_guest              -0.050421  ...     -0.106626\n",
              "previous_cancellations         -0.012292  ...     -0.015429\n",
              "previous_bookings_not_canceled -0.004441  ...     -0.053049\n",
              "reserved_room_type             -0.249677  ...      0.181296\n",
              "assigned_room_type             -0.307834  ...      0.109042\n",
              "booking_changes                -0.072820  ...      0.096498\n",
              "agent                          -0.158500  ...     -0.125406\n",
              "days_in_waiting_list            0.072432  ...     -0.022652\n",
              "customer_type                   0.047531  ...     -0.137577\n",
              "adr                             0.096719  ...      0.067945\n",
              "required_car_parking_spaces    -0.218873  ...     -0.025794\n",
              "total_of_special_requests      -0.043390  ...      0.079259\n",
              "reservation_status             -0.124331  ...     -0.012781\n",
              "is_family                      -0.058306  ...      0.058049\n",
              "total_customer                 -0.040821  ...      0.115463\n",
              "deposit_given                   0.172003  ...     -0.104314\n",
              "total_nights                   -0.247479  ...      1.000000\n",
              "\n",
              "[29 rows x 29 columns]"
            ]
          },
          "metadata": {
            "tags": []
          },
          "execution_count": 191
        }
      ]
    },
    {
      "cell_type": "markdown",
      "metadata": {
        "id": "EQNmfYIFyN4t"
      },
      "source": [
        "Above table represents the correlation of attributes with other attributes. "
      ]
    },
    {
      "cell_type": "code",
      "metadata": {
        "id": "cKFn7rZ6nQIB",
        "outputId": "5a54e8e4-71eb-4eaf-c84e-a5e324074a08",
        "colab": {
          "base_uri": "https://localhost:8080/"
        }
      },
      "source": [
        "\n",
        "cor_data.corr()[\"is_canceled\"].sort_values()"
      ],
      "execution_count": 192,
      "outputs": [
        {
          "output_type": "execute_result",
          "data": {
            "text/plain": [
              "reservation_status               -0.917196\n",
              "total_of_special_requests        -0.234658\n",
              "required_car_parking_spaces      -0.195498\n",
              "assigned_room_type               -0.176028\n",
              "booking_changes                  -0.144381\n",
              "agent                            -0.127883\n",
              "is_repeated_guest                -0.084793\n",
              "customer_type                    -0.068140\n",
              "reserved_room_type               -0.061282\n",
              "previous_bookings_not_canceled   -0.057358\n",
              "meal                             -0.017678\n",
              "is_family                        -0.013010\n",
              "arrival_date_day_of_month        -0.006130\n",
              "stays_in_weekend_nights          -0.001791\n",
              "arrival_date_week_number          0.008148\n",
              "arrival_date_month                0.011022\n",
              "arrival_date_year                 0.016660\n",
              "total_nights                      0.017779\n",
              "stays_in_week_nights              0.024765\n",
              "total_customer                    0.046522\n",
              "adr                               0.047557\n",
              "days_in_waiting_list              0.054186\n",
              "market_segment                    0.059338\n",
              "previous_cancellations            0.110133\n",
              "hotel                             0.136531\n",
              "distribution_channel              0.167600\n",
              "lead_time                         0.293123\n",
              "deposit_given                     0.481457\n",
              "is_canceled                       1.000000\n",
              "Name: is_canceled, dtype: float64"
            ]
          },
          "metadata": {
            "tags": []
          },
          "execution_count": 192
        }
      ]
    },
    {
      "cell_type": "markdown",
      "metadata": {
        "id": "y2xso9n5nYhD"
      },
      "source": [
        "As we can see in the sorted list, reservation_status seems to be most impactful feature. With that information accuracy rate should be really high. It can be better to drop reservation_status column to see how other features can predict. I am going to try both."
      ]
    },
    {
      "cell_type": "markdown",
      "metadata": {
        "id": "CJXAJZ2rnemo"
      },
      "source": [
        "Apart from that, I will not use arrival_date_week_number, stays_in_weekend_nights and arrival_date_day_of_month since their importances are really low while predicting cancellations.\n",
        "\n",
        "Also, still we have some missing values in agent column. It has nice importance on predicting cancellation but since the missing values are equal to 13% of the total data it is better to drop that column. It has a lot of class inside of it otherwise we could try predicting missing values but they may misguide the predictions."
      ]
    },
    {
      "cell_type": "code",
      "metadata": {
        "id": "bkwAX9MfP1VE",
        "outputId": "afb8b0eb-c416-4b62-c907-6ef4b0d4ef84",
        "colab": {
          "base_uri": "https://localhost:8080/"
        }
      },
      "source": [
        "\n",
        "cor_data.corr()['stays_in_week_nights']"
      ],
      "execution_count": 193,
      "outputs": [
        {
          "output_type": "execute_result",
          "data": {
            "text/plain": [
              "hotel                            -0.234020\n",
              "is_canceled                       0.024765\n",
              "lead_time                         0.165799\n",
              "arrival_date_year                 0.030883\n",
              "arrival_date_month                0.019212\n",
              "arrival_date_week_number          0.015558\n",
              "arrival_date_day_of_month        -0.028174\n",
              "stays_in_weekend_nights           0.498969\n",
              "stays_in_week_nights              1.000000\n",
              "meal                              0.036742\n",
              "market_segment                    0.108569\n",
              "distribution_channel              0.087185\n",
              "is_repeated_guest                -0.097245\n",
              "previous_cancellations           -0.013992\n",
              "previous_bookings_not_canceled   -0.048743\n",
              "reserved_room_type                0.168616\n",
              "assigned_room_type                0.100795\n",
              "booking_changes                   0.096209\n",
              "agent                            -0.110354\n",
              "days_in_waiting_list             -0.002020\n",
              "customer_type                    -0.127223\n",
              "adr                               0.065237\n",
              "required_car_parking_spaces      -0.024859\n",
              "total_of_special_requests         0.068192\n",
              "reservation_status               -0.021607\n",
              "is_family                         0.050424\n",
              "total_customer                    0.101665\n",
              "deposit_given                    -0.079999\n",
              "total_nights                      0.941005\n",
              "Name: stays_in_week_nights, dtype: float64"
            ]
          },
          "metadata": {
            "tags": []
          },
          "execution_count": 193
        }
      ]
    },
    {
      "cell_type": "code",
      "metadata": {
        "id": "IXEmnFetQFVz"
      },
      "source": [
        "cor_data = cor_data.drop(columns = ['total_nights', 'arrival_date_week_number', 'stays_in_weekend_nights', 'arrival_date_month', 'agent'], axis = 1)"
      ],
      "execution_count": 194,
      "outputs": []
    },
    {
      "cell_type": "markdown",
      "metadata": {
        "id": "1OQwUwconsDu"
      },
      "source": [
        "**Lets delete the NA rows of country column**"
      ]
    },
    {
      "cell_type": "code",
      "metadata": {
        "id": "T0AM0G5uQJcr",
        "outputId": "418a5905-c471-4703-a436-feba0253143b",
        "colab": {
          "base_uri": "https://localhost:8080/"
        }
      },
      "source": [
        "indices = cor_data.loc[pd.isna(cor_data[\"country\"]), :].index \n",
        "cor_data = cor_data.drop(cor_data.index[indices])   \n",
        "cor_data.isnull().sum()\n",
        "\n",
        "#There is no missing value in the data"
      ],
      "execution_count": 195,
      "outputs": [
        {
          "output_type": "execute_result",
          "data": {
            "text/plain": [
              "hotel                             0\n",
              "is_canceled                       0\n",
              "lead_time                         0\n",
              "arrival_date_year                 0\n",
              "arrival_date_day_of_month         0\n",
              "stays_in_week_nights              0\n",
              "meal                              0\n",
              "country                           0\n",
              "market_segment                    0\n",
              "distribution_channel              0\n",
              "is_repeated_guest                 0\n",
              "previous_cancellations            0\n",
              "previous_bookings_not_canceled    0\n",
              "reserved_room_type                0\n",
              "assigned_room_type                0\n",
              "booking_changes                   0\n",
              "days_in_waiting_list              0\n",
              "customer_type                     0\n",
              "adr                               0\n",
              "required_car_parking_spaces       0\n",
              "total_of_special_requests         0\n",
              "reservation_status                0\n",
              "is_family                         0\n",
              "total_customer                    0\n",
              "deposit_given                     0\n",
              "dtype: int64"
            ]
          },
          "metadata": {
            "tags": []
          },
          "execution_count": 195
        }
      ]
    },
    {
      "cell_type": "markdown",
      "metadata": {
        "id": "SNapQd6ln5Eb"
      },
      "source": [
        "**Since we have decided what to do with features and missing values, we can work on first data.**"
      ]
    },
    {
      "cell_type": "code",
      "metadata": {
        "id": "9axLJ3zEQLjp"
      },
      "source": [
        "indices = data.loc[pd.isna(data[\"country\"]), :].index \n",
        "data = data.drop(data.index[indices])   \n",
        "data = data.drop(columns = ['arrival_date_week_number', 'stays_in_weekend_nights', 'arrival_date_month', 'agent'], axis = 1)"
      ],
      "execution_count": 196,
      "outputs": []
    },
    {
      "cell_type": "code",
      "metadata": {
        "id": "UN46H_RfQR-I",
        "outputId": "c4ef7075-6a1a-42f7-d040-2cebf8d45cd1",
        "colab": {
          "base_uri": "https://localhost:8080/"
        }
      },
      "source": [
        "data.columns"
      ],
      "execution_count": 197,
      "outputs": [
        {
          "output_type": "execute_result",
          "data": {
            "text/plain": [
              "Index(['hotel', 'is_canceled', 'lead_time', 'arrival_date_year',\n",
              "       'arrival_date_day_of_month', 'stays_in_week_nights', 'meal', 'country',\n",
              "       'market_segment', 'distribution_channel', 'is_repeated_guest',\n",
              "       'previous_cancellations', 'previous_bookings_not_canceled',\n",
              "       'reserved_room_type', 'assigned_room_type', 'booking_changes',\n",
              "       'days_in_waiting_list', 'customer_type', 'adr',\n",
              "       'required_car_parking_spaces', 'total_of_special_requests',\n",
              "       'reservation_status', 'is_family', 'total_customer', 'deposit_given',\n",
              "       'total_nights'],\n",
              "      dtype='object')"
            ]
          },
          "metadata": {
            "tags": []
          },
          "execution_count": 197
        }
      ]
    },
    {
      "cell_type": "code",
      "metadata": {
        "id": "71s8eU6fQdAh"
      },
      "source": [
        "df1 = data.copy()"
      ],
      "execution_count": 198,
      "outputs": []
    },
    {
      "cell_type": "code",
      "metadata": {
        "id": "fpfYvD5lQg3c"
      },
      "source": [
        "df1 = pd.get_dummies(data = df1, columns = ['meal', 'market_segment', 'distribution_channel',\n",
        "                                            'reserved_room_type', 'assigned_room_type', 'customer_type', 'reservation_status'])"
      ],
      "execution_count": 199,
      "outputs": []
    },
    {
      "cell_type": "code",
      "metadata": {
        "id": "no2eUGmNQjfu"
      },
      "source": [
        "df1['country'] = le.fit_transform(df1['country'])"
      ],
      "execution_count": 200,
      "outputs": []
    },
    {
      "cell_type": "markdown",
      "metadata": {
        "id": "qsLAOOFvoTDV"
      },
      "source": [
        "There are more than 300 classes, so I wanted to use label encoder on this feature."
      ]
    },
    {
      "cell_type": "markdown",
      "metadata": {
        "id": "nmZLgHNFoKtb"
      },
      "source": [
        "## **Decision Tree Model (reservation_status included)**"
      ]
    },
    {
      "cell_type": "code",
      "metadata": {
        "id": "uOA01gSuQr7a"
      },
      "source": [
        "y = df1[\"is_canceled\"]\n",
        "X = df1.drop([\"is_canceled\"], axis=1)\n",
        "\n",
        "X_train, X_test, y_train, y_test = train_test_split(X, y, test_size = 0.30, random_state = 42)"
      ],
      "execution_count": 201,
      "outputs": []
    },
    {
      "cell_type": "code",
      "metadata": {
        "id": "5OTXVXQQQvUv"
      },
      "source": [
        "cart = DecisionTreeClassifier(max_depth = 12)\n",
        "\n",
        "cart_model = cart.fit(X_train, y_train)\n",
        "\n",
        "y_pred = cart_model.predict(X_test)"
      ],
      "execution_count": 202,
      "outputs": []
    },
    {
      "cell_type": "code",
      "metadata": {
        "id": "LsRYl1xfQyet",
        "outputId": "e40951ce-a70e-4199-af36-23f47685ba7d",
        "colab": {
          "base_uri": "https://localhost:8080/"
        }
      },
      "source": [
        "print('Decision Tree Model')\n",
        "\n",
        "print('Accuracy Score: {}\\n\\nConfusion Matrix:\\n {}\\n\\nAUC Score: {}'\n",
        "      .format(accuracy_score(y_test,y_pred), confusion_matrix(y_test,y_pred), roc_auc_score(y_test,y_pred)))"
      ],
      "execution_count": 203,
      "outputs": [
        {
          "output_type": "stream",
          "text": [
            "Decision Tree Model\n",
            "Accuracy Score: 1.0\n",
            "\n",
            "Confusion Matrix:\n",
            " [[22353     0]\n",
            " [    0 13318]]\n",
            "\n",
            "AUC Score: 1.0\n"
          ],
          "name": "stdout"
        }
      ]
    },
    {
      "cell_type": "markdown",
      "metadata": {
        "id": "wIDp62YZok8S"
      },
      "source": [
        "In the correlation part, we have seen the impact of reservation status. Reservation status dominates other features totally. By keeping reservation_status in data, it is possible to achieve 100% accuracy rate because that feature is direct way to predict cancellations, its like cheating. For the sake of analysis I will drop reservation_status and continue analysis without it."
      ]
    },
    {
      "cell_type": "code",
      "metadata": {
        "id": "fZfKMKw1UKLk",
        "outputId": "9d448dd0-8059-4084-9ea4-4309a2b26342",
        "colab": {
          "base_uri": "https://localhost:8080/",
          "height": 620
        }
      },
      "source": [
        "ROC(y_test, y_prob)\n"
      ],
      "execution_count": 204,
      "outputs": [
        {
          "output_type": "display_data",
          "data": {
            "image/png": "[encoded data removed]",
            "text/plain": [
              "<Figure size 720x720 with 1 Axes>"
            ]
          },
          "metadata": {
            "tags": [],
            "needs_background": "light"
          }
        }
      ]
    },
    {
      "cell_type": "markdown",
      "metadata": {
        "id": "5xTkWEQis2ar"
      },
      "source": [
        "When the variable under study cannot distinguish between the two groups, i.e. where there is no difference between the two distributions, the area will be equal to 0.5 (the ROC curve will coincide with the diagonal). When there is a perfect separation of the values of the two groups, i.e. there no overlapping of the distributions, the area under the ROC curve equals 1 (the ROC curve will reach the upper left corner of the plot).\n",
        "The 95% Confidence Interval is the interval in which the true (population) Area under the ROC curve lies with 95% confidence."
      ]
    },
    {
      "cell_type": "code",
      "metadata": {
        "id": "nB22dUoxRc83"
      },
      "source": [
        "df2 = df1.drop(columns = ['reservation_status_Canceled', 'reservation_status_Check-Out', 'reservation_status_No-Show'], axis = 1)"
      ],
      "execution_count": 205,
      "outputs": []
    },
    {
      "cell_type": "code",
      "metadata": {
        "id": "ZxBCbQFfRgWx"
      },
      "source": [
        "y = df2[\"is_canceled\"]\n",
        "X = df2.drop([\"is_canceled\"], axis=1)\n",
        "\n",
        "X_train, X_test, y_train, y_test = train_test_split(X, y, test_size = 0.30, random_state = 42)"
      ],
      "execution_count": 206,
      "outputs": []
    },
    {
      "cell_type": "code",
      "metadata": {
        "id": "yiKQ3VSpRj-9"
      },
      "source": [
        "def model(algorithm, X_train, X_test, y_train, y_test):\n",
        "    alg = algorithm\n",
        "    alg_model = alg.fit(X_train, y_train)\n",
        "    global y_prob, y_pred\n",
        "    y_prob = alg.predict_proba(X_test)[:,1]\n",
        "    y_pred = alg_model.predict(X_test)\n",
        "\n",
        "    print('Accuracy Score: {}\\n\\nConfusion Matrix:\\n {}'\n",
        "      .format(accuracy_score(y_test,y_pred), confusion_matrix(y_test,y_pred)))\n",
        "    \n",
        "\n",
        "def ROC(y_test, y_prob):\n",
        "    \n",
        "    false_positive_rate, true_positive_rate, threshold = roc_curve(y_test, y_prob)\n",
        "    roc_auc = auc(false_positive_rate, true_positive_rate)\n",
        "    \n",
        "    plt.figure(figsize = (10,10))\n",
        "    plt.title('Receiver Operating Characteristic')\n",
        "    plt.plot(false_positive_rate, true_positive_rate, color = 'red', label = 'AUC = %0.2f' % roc_auc)\n",
        "    plt.legend(loc = 'lower right')\n",
        "    plt.plot([0, 1], [0, 1], linestyle = '--')\n",
        "    plt.axis('tight')\n",
        "    plt.ylabel('True Positive Rate')\n",
        "    plt.xlabel('False Positive Rate')"
      ],
      "execution_count": 207,
      "outputs": []
    },
    {
      "cell_type": "code",
      "metadata": {
        "id": "x1k2fIunRoc_",
        "outputId": "d7a6472d-23ac-405c-d3f7-27ef5951ab9d",
        "colab": {
          "base_uri": "https://localhost:8080/"
        }
      },
      "source": [
        "print('Model: Logistic Regression\\n')\n",
        "model(LogisticRegression(solver = \"liblinear\"), X_train, X_test, y_train, y_test)"
      ],
      "execution_count": 208,
      "outputs": [
        {
          "output_type": "stream",
          "text": [
            "Model: Logistic Regression\n",
            "\n",
            "Accuracy Score: 0.8041266014409464\n",
            "\n",
            "Confusion Matrix:\n",
            " [[20476  1877]\n",
            " [ 5110  8208]]\n"
          ],
          "name": "stdout"
        }
      ]
    },
    {
      "cell_type": "code",
      "metadata": {
        "id": "hLhwzbwARvHq",
        "outputId": "553c3372-c45d-4152-a347-df7a2a0c1a69",
        "colab": {
          "base_uri": "https://localhost:8080/"
        }
      },
      "source": [
        "LogR = LogisticRegression(solver = \"liblinear\")\n",
        "cv_scores = cross_val_score(LogR, X, y, cv = 8, scoring = 'accuracy')\n",
        "print('Mean Score of CV: ', cv_scores.mean())"
      ],
      "execution_count": 209,
      "outputs": [
        {
          "output_type": "stream",
          "text": [
            "Mean Score of CV:  0.7692639068322691\n"
          ],
          "name": "stdout"
        }
      ]
    },
    {
      "cell_type": "markdown",
      "metadata": {
        "id": "GztVCcZA0jP7"
      },
      "source": [
        "Best cross-validation score: 0.76"
      ]
    },
    {
      "cell_type": "code",
      "metadata": {
        "id": "hNAQuoexRz_G",
        "outputId": "ee024bbc-82ae-4b8b-eb8e-db6379ad2330",
        "colab": {
          "base_uri": "https://localhost:8080/",
          "height": 620
        }
      },
      "source": [
        "ROC(y_test, y_prob)"
      ],
      "execution_count": 210,
      "outputs": [
        {
          "output_type": "display_data",
          "data": {
            "image/png": "[encoded data removed]",
            "text/plain": [
              "<Figure size 720x720 with 1 Axes>"
            ]
          },
          "metadata": {
            "tags": [],
            "needs_background": "light"
          }
        }
      ]
    },
    {
      "cell_type": "code",
      "metadata": {
        "id": "eYfz0ItvR71M",
        "outputId": "6d628892-7397-42f2-a036-0dbad20b8856",
        "colab": {
          "base_uri": "https://localhost:8080/"
        }
      },
      "source": [
        "print('Model: Gaussian Naive Bayes\\n')\n",
        "model(GaussianNB(), X_train, X_test, y_train, y_test)"
      ],
      "execution_count": 211,
      "outputs": [
        {
          "output_type": "stream",
          "text": [
            "Model: Gaussian Naive Bayes\n",
            "\n",
            "Accuracy Score: 0.586246530795324\n",
            "\n",
            "Confusion Matrix:\n",
            " [[ 9604 12749]\n",
            " [ 2010 11308]]\n"
          ],
          "name": "stdout"
        }
      ]
    },
    {
      "cell_type": "code",
      "metadata": {
        "id": "zzzC_cXlR_fn",
        "outputId": "f1ede3d5-eaa5-446a-a428-4196b5f0a721",
        "colab": {
          "base_uri": "https://localhost:8080/"
        }
      },
      "source": [
        "NB = GaussianNB()\n",
        "cv_scores = cross_val_score(NB, X, y, cv = 8, scoring = 'accuracy')\n",
        "print('Mean Score of CV: ', cv_scores.mean())"
      ],
      "execution_count": 212,
      "outputs": [
        {
          "output_type": "stream",
          "text": [
            "Mean Score of CV:  0.5624280984012298\n"
          ],
          "name": "stdout"
        }
      ]
    },
    {
      "cell_type": "markdown",
      "metadata": {
        "id": "AHjWDNjD0q9s"
      },
      "source": [
        "Best cross-validation score: 0.56"
      ]
    },
    {
      "cell_type": "code",
      "metadata": {
        "id": "_ags1csQSDJ-",
        "outputId": "2307fe16-37da-43fb-d307-50211c30374d",
        "colab": {
          "base_uri": "https://localhost:8080/",
          "height": 620
        }
      },
      "source": [
        "ROC(y_test, y_prob)"
      ],
      "execution_count": 213,
      "outputs": [
        {
          "output_type": "display_data",
          "data": {
            "image/png": "[encoded data removed]",
            "text/plain": [
              "<Figure size 720x720 with 1 Axes>"
            ]
          },
          "metadata": {
            "tags": [],
            "needs_background": "light"
          }
        }
      ]
    },
    {
      "cell_type": "code",
      "metadata": {
        "id": "cn218OYQSNGh",
        "outputId": "5c8f06e6-59bd-489a-bdf3-a2d4b6a157f6",
        "colab": {
          "base_uri": "https://localhost:8080/"
        }
      },
      "source": [
        "print('Model: Random Forest\\n')\n",
        "model(RandomForestClassifier(), X_train, X_test, y_train, y_test)"
      ],
      "execution_count": 214,
      "outputs": [
        {
          "output_type": "stream",
          "text": [
            "Model: Random Forest\n",
            "\n",
            "Accuracy Score: 0.8849205236746938\n",
            "\n",
            "Confusion Matrix:\n",
            " [[20959  1394]\n",
            " [ 2711 10607]]\n"
          ],
          "name": "stdout"
        }
      ]
    },
    {
      "cell_type": "code",
      "metadata": {
        "id": "PbtBnyjFSRAw",
        "outputId": "4a536938-9c78-4d31-94c5-81273b5850ec",
        "colab": {
          "base_uri": "https://localhost:8080/"
        }
      },
      "source": [
        "RFC = RandomForestClassifier()\n",
        "cv_scores = cross_val_score(RFC, X, y, cv = 8, scoring = 'accuracy')\n",
        "print('Mean Score of CV: ', cv_scores.mean())"
      ],
      "execution_count": 215,
      "outputs": [
        {
          "output_type": "stream",
          "text": [
            "Mean Score of CV:  0.6729233258023877\n"
          ],
          "name": "stdout"
        }
      ]
    },
    {
      "cell_type": "markdown",
      "metadata": {
        "id": "ZiebwbgP0uug"
      },
      "source": [
        "Best cross-validation score: 0.67"
      ]
    },
    {
      "cell_type": "code",
      "metadata": {
        "id": "P_DnFmwySVVt",
        "outputId": "bc00e8e4-211f-445f-c2c8-508ef4ced924",
        "colab": {
          "base_uri": "https://localhost:8080/",
          "height": 620
        }
      },
      "source": [
        "ROC(y_test, y_prob)"
      ],
      "execution_count": 216,
      "outputs": [
        {
          "output_type": "display_data",
          "data": {
            "image/png": "[encoded data removed]",
            "text/plain": [
              "<Figure size 720x720 with 1 Axes>"
            ]
          },
          "metadata": {
            "tags": [],
            "needs_background": "light"
          }
        }
      ]
    },
    {
      "cell_type": "markdown",
      "metadata": {
        "id": "5vc4S3l4suOU"
      },
      "source": [
        "When the variable under study cannot distinguish between the two groups, i.e. where there is no difference between the two distributions, the area will be equal to 0.5 (the ROC curve will coincide with the diagonal). When there is a perfect separation of the values of the two groups, i.e. there no overlapping of the distributions, the area under the ROC curve equals 1 (the ROC curve will reach the upper left corner of the plot).\n",
        "The 95% Confidence Interval is the interval in which the true (population) Area under the ROC curve lies with 95% confidence."
      ]
    },
    {
      "cell_type": "markdown",
      "metadata": {
        "id": "nsd2baSJ3b9Y"
      },
      "source": [
        "## **Different models on data-**"
      ]
    },
    {
      "cell_type": "markdown",
      "metadata": {
        "id": "FJTdVmC3u1Ko"
      },
      "source": [
        "For classification problems, we have only used classification accuracy as our evaluation metric. What metrics can we used for regression problems?\n",
        "Mean Absolute Error (MAE) is the mean of the absolute value of the errors:\n",
        "\n",
        "1n∑i=1n|yi−ŷ i|\n",
        "\n",
        "Mean Squared Error (MSE) is the mean of the squared errors:\n",
        "\n",
        "1n∑i=1n(yi−ŷ i)2\n",
        "\n",
        "Root Mean Squared Error (RMSE) is the square root of the mean of the squared errors:\n",
        "\n",
        "√1n∑i=1n(yi−ŷ i)2\n",
        "\n",
        "\n",
        "\n"
      ]
    },
    {
      "cell_type": "code",
      "metadata": {
        "id": "vAGaOW3K2wew"
      },
      "source": [
        "from sklearn.model_selection import train_test_split \n",
        "from sklearn.linear_model import LinearRegression\n",
        "from sklearn import metrics\n",
        "from sklearn.metrics import r2_score\n",
        "from sklearn.model_selection import cross_val_score"
      ],
      "execution_count": 217,
      "outputs": []
    },
    {
      "cell_type": "code",
      "metadata": {
        "id": "3NLKU2zq3ozJ"
      },
      "source": [
        "data=df.copy()"
      ],
      "execution_count": 218,
      "outputs": []
    },
    {
      "cell_type": "code",
      "metadata": {
        "id": "Ia13QIYC3iZi"
      },
      "source": [
        "X = data.drop(['previous_cancellations'], axis = 1)\n",
        "y = data['previous_cancellations']"
      ],
      "execution_count": 219,
      "outputs": []
    },
    {
      "cell_type": "markdown",
      "metadata": {
        "id": "VAZ6J3QS3x9Z"
      },
      "source": [
        "Our Target is y with previous_cancellations, & X contains all the data except previous_cancellation with below codes we will train_test_split the data"
      ]
    },
    {
      "cell_type": "code",
      "metadata": {
        "id": "33PZmwEY4eB4"
      },
      "source": [
        "X = X.apply(pd.to_numeric, errors='coerce')\n",
        "y = y.apply(pd.to_numeric, errors='coerce')"
      ],
      "execution_count": 220,
      "outputs": []
    },
    {
      "cell_type": "code",
      "metadata": {
        "id": "OoXjs6eO4rlN"
      },
      "source": [
        "X.fillna(0, inplace=True)\n",
        "y.fillna(0, inplace=True)"
      ],
      "execution_count": 221,
      "outputs": []
    },
    {
      "cell_type": "code",
      "metadata": {
        "id": "Fd12T26q3li6",
        "outputId": "9f5308d3-8015-44c2-a05d-8282bda9483f",
        "colab": {
          "base_uri": "https://localhost:8080/"
        }
      },
      "source": [
        "X_train, X_test, y_train, y_test = train_test_split(X, y, test_size=0.2, random_state=0)\n",
        "\n",
        "regressor = LinearRegression()  \n",
        "regressor.fit(X_train, y_train) #training the algorithm\n",
        "y_pred = regressor.predict(X_test)\n",
        "\n",
        "print('Mean Absolute Error_lng:', metrics.mean_absolute_error(y_test, y_pred).round(3))  \n",
        "print('Mean Squared Error_lng:', metrics.mean_squared_error(y_test, y_pred).round(3))  \n",
        "print('Root Mean Squared Error_lng:', np.sqrt(metrics.mean_squared_error(y_test, y_pred)).round(3))\n",
        "print('r2_score_lng:', r2_score(y_test, y_pred).round(3))\n"
      ],
      "execution_count": 222,
      "outputs": [
        {
          "output_type": "stream",
          "text": [
            "Mean Absolute Error_lng: 0.19\n",
            "Mean Squared Error_lng: 0.661\n",
            "Root Mean Squared Error_lng: 0.813\n",
            "r2_score_lng: 0.063\n"
          ],
          "name": "stdout"
        }
      ]
    },
    {
      "cell_type": "markdown",
      "metadata": {
        "id": "SQfWoz0OupeZ"
      },
      "source": [
        "## **Lower values of RMSE indicate better fit. So Ridge Regression is not the best model to predict the output.**"
      ]
    },
    {
      "cell_type": "code",
      "metadata": {
        "id": "uwn3Fse535So",
        "outputId": "4d530f6a-e51e-4ee4-df67-5e06ae07ceda",
        "colab": {
          "base_uri": "https://localhost:8080/"
        }
      },
      "source": [
        "X.shape"
      ],
      "execution_count": 223,
      "outputs": [
        {
          "output_type": "execute_result",
          "data": {
            "text/plain": [
              "(119390, 30)"
            ]
          },
          "metadata": {
            "tags": []
          },
          "execution_count": 223
        }
      ]
    },
    {
      "cell_type": "code",
      "metadata": {
        "id": "MDeLUIj95sH3",
        "outputId": "e1c44720-eefe-475e-bd51-a3443de6fd79",
        "colab": {
          "base_uri": "https://localhost:8080/"
        }
      },
      "source": [
        "y.shape"
      ],
      "execution_count": 224,
      "outputs": [
        {
          "output_type": "execute_result",
          "data": {
            "text/plain": [
              "(119390,)"
            ]
          },
          "metadata": {
            "tags": []
          },
          "execution_count": 224
        }
      ]
    },
    {
      "cell_type": "code",
      "metadata": {
        "id": "oT3ibbPx6hPN"
      },
      "source": [
        "y_pred = regressor.predict(X_test)"
      ],
      "execution_count": 225,
      "outputs": []
    },
    {
      "cell_type": "code",
      "metadata": {
        "id": "5lU61hRj7Zq6",
        "outputId": "688b75c8-7d50-431e-bb55-83ae1c6472c7",
        "colab": {
          "base_uri": "https://localhost:8080/",
          "height": 411
        }
      },
      "source": [
        "data = pd.DataFrame({'Actual': y_test, 'Predicted': y_pred})\n",
        "data"
      ],
      "execution_count": 226,
      "outputs": [
        {
          "output_type": "execute_result",
          "data": {
            "text/html": [
              "<div>\n",
              "<style scoped>\n",
              "    .dataframe tbody tr th:only-of-type {\n",
              "        vertical-align: middle;\n",
              "    }\n",
              "\n",
              "    .dataframe tbody tr th {\n",
              "        vertical-align: top;\n",
              "    }\n",
              "\n",
              "    .dataframe thead th {\n",
              "        text-align: right;\n",
              "    }\n",
              "</style>\n",
              "<table border=\"1\" class=\"dataframe\">\n",
              "  <thead>\n",
              "    <tr style=\"text-align: right;\">\n",
              "      <th></th>\n",
              "      <th>Actual</th>\n",
              "      <th>Predicted</th>\n",
              "    </tr>\n",
              "  </thead>\n",
              "  <tbody>\n",
              "    <tr>\n",
              "      <th>5627</th>\n",
              "      <td>0</td>\n",
              "      <td>0.267721</td>\n",
              "    </tr>\n",
              "    <tr>\n",
              "      <th>119322</th>\n",
              "      <td>0</td>\n",
              "      <td>-0.174234</td>\n",
              "    </tr>\n",
              "    <tr>\n",
              "      <th>75310</th>\n",
              "      <td>1</td>\n",
              "      <td>0.537058</td>\n",
              "    </tr>\n",
              "    <tr>\n",
              "      <th>90032</th>\n",
              "      <td>0</td>\n",
              "      <td>-0.042960</td>\n",
              "    </tr>\n",
              "    <tr>\n",
              "      <th>75368</th>\n",
              "      <td>1</td>\n",
              "      <td>0.513976</td>\n",
              "    </tr>\n",
              "    <tr>\n",
              "      <th>...</th>\n",
              "      <td>...</td>\n",
              "      <td>...</td>\n",
              "    </tr>\n",
              "    <tr>\n",
              "      <th>9687</th>\n",
              "      <td>0</td>\n",
              "      <td>0.052800</td>\n",
              "    </tr>\n",
              "    <tr>\n",
              "      <th>1053</th>\n",
              "      <td>0</td>\n",
              "      <td>0.095290</td>\n",
              "    </tr>\n",
              "    <tr>\n",
              "      <th>34861</th>\n",
              "      <td>0</td>\n",
              "      <td>-0.228904</td>\n",
              "    </tr>\n",
              "    <tr>\n",
              "      <th>88285</th>\n",
              "      <td>0</td>\n",
              "      <td>0.240167</td>\n",
              "    </tr>\n",
              "    <tr>\n",
              "      <th>35158</th>\n",
              "      <td>0</td>\n",
              "      <td>-0.122313</td>\n",
              "    </tr>\n",
              "  </tbody>\n",
              "</table>\n",
              "<p>23878 rows × 2 columns</p>\n",
              "</div>"
            ],
            "text/plain": [
              "        Actual  Predicted\n",
              "5627         0   0.267721\n",
              "119322       0  -0.174234\n",
              "75310        1   0.537058\n",
              "90032        0  -0.042960\n",
              "75368        1   0.513976\n",
              "...        ...        ...\n",
              "9687         0   0.052800\n",
              "1053         0   0.095290\n",
              "34861        0  -0.228904\n",
              "88285        0   0.240167\n",
              "35158        0  -0.122313\n",
              "\n",
              "[23878 rows x 2 columns]"
            ]
          },
          "metadata": {
            "tags": []
          },
          "execution_count": 226
        }
      ]
    },
    {
      "cell_type": "markdown",
      "metadata": {
        "id": "fKi9czJi75Fi"
      },
      "source": [
        "### **Though our model is very precise, the predicted percentages are close to the actual ones.**\n",
        "\n"
      ]
    },
    {
      "cell_type": "markdown",
      "metadata": {
        "id": "CoJGGk6uvGRE"
      },
      "source": [
        "**Ridge Regression**"
      ]
    },
    {
      "cell_type": "code",
      "metadata": {
        "id": "4nFSuvuQ7e_l",
        "outputId": "3e2336bc-a4c1-4645-9cfa-d1460f5c8f14",
        "colab": {
          "base_uri": "https://localhost:8080/"
        }
      },
      "source": [
        "from sklearn.linear_model import Ridge\n",
        "ridge = Ridge(alpha=1.0)\n",
        "ridge.fit(X_train, y_train) #training the algorithm\n",
        "\n",
        "y_pred = ridge.predict(X_test)\n",
        "\n",
        "print('Mean Absolute Error_ridge:', metrics.mean_absolute_error(y_test, y_pred).round(3))  \n",
        "print('Mean Squared Error_ridge:', metrics.mean_squared_error(y_test, y_pred).round(3))  \n",
        "print('Root Mean Squared Error_ridge:', np.sqrt(metrics.mean_squared_error(y_test, y_pred)).round(3))\n",
        "print('r2_score_ridge:', r2_score(y_test, y_pred).round(3))\n"
      ],
      "execution_count": 227,
      "outputs": [
        {
          "output_type": "stream",
          "text": [
            "Mean Absolute Error_ridge: 0.19\n",
            "Mean Squared Error_ridge: 0.661\n",
            "Root Mean Squared Error_ridge: 0.813\n",
            "r2_score_ridge: 0.063\n"
          ],
          "name": "stdout"
        }
      ]
    },
    {
      "cell_type": "markdown",
      "metadata": {
        "id": "124UJreruMVr"
      },
      "source": [
        "Lower values of RMSE indicate better fit. So Ridge Regression is not the best model to predict the output."
      ]
    },
    {
      "cell_type": "markdown",
      "metadata": {
        "id": "NcYDP7eCvvCU"
      },
      "source": [
        "## **Logistic Regression**"
      ]
    },
    {
      "cell_type": "code",
      "metadata": {
        "id": "yllJCCvw_p3t"
      },
      "source": [
        "import numpy as np\n",
        "import pandas as pd\n",
        "import matplotlib.pyplot as plt\n",
        "import seaborn as sns\n",
        "from sklearn.model_selection import train_test_split\n",
        "from sklearn.linear_model import LogisticRegression\n",
        "\n",
        "from sklearn.metrics import confusion_matrix\n",
        "from sklearn.metrics import classification_report\n",
        "\n",
        "import warnings\n",
        "warnings.filterwarnings(\"ignore\")"
      ],
      "execution_count": 228,
      "outputs": []
    },
    {
      "cell_type": "code",
      "metadata": {
        "id": "TgVRFfrmCgWE",
        "outputId": "7c52cc03-41f8-4fb4-c353-1f497d790b18",
        "colab": {
          "base_uri": "https://localhost:8080/",
          "height": 303
        }
      },
      "source": [
        "d1f = pd.read_csv(csv_file)\n",
        "df1 = df.iloc[0:2999]\n",
        "df1.head()"
      ],
      "execution_count": 229,
      "outputs": [
        {
          "output_type": "execute_result",
          "data": {
            "text/html": [
              "<div>\n",
              "<style scoped>\n",
              "    .dataframe tbody tr th:only-of-type {\n",
              "        vertical-align: middle;\n",
              "    }\n",
              "\n",
              "    .dataframe tbody tr th {\n",
              "        vertical-align: top;\n",
              "    }\n",
              "\n",
              "    .dataframe thead th {\n",
              "        text-align: right;\n",
              "    }\n",
              "</style>\n",
              "<table border=\"1\" class=\"dataframe\">\n",
              "  <thead>\n",
              "    <tr style=\"text-align: right;\">\n",
              "      <th></th>\n",
              "      <th>hotel</th>\n",
              "      <th>is_canceled</th>\n",
              "      <th>lead_time</th>\n",
              "      <th>arrival_date_year</th>\n",
              "      <th>arrival_date_month</th>\n",
              "      <th>arrival_date_week_number</th>\n",
              "      <th>arrival_date_day_of_month</th>\n",
              "      <th>stays_in_weekend_nights</th>\n",
              "      <th>stays_in_week_nights</th>\n",
              "      <th>adults</th>\n",
              "      <th>children</th>\n",
              "      <th>babies</th>\n",
              "      <th>meal</th>\n",
              "      <th>country</th>\n",
              "      <th>market_segment</th>\n",
              "      <th>distribution_channel</th>\n",
              "      <th>is_repeated_guest</th>\n",
              "      <th>previous_cancellations</th>\n",
              "      <th>previous_bookings_not_canceled</th>\n",
              "      <th>reserved_room_type</th>\n",
              "      <th>assigned_room_type</th>\n",
              "      <th>booking_changes</th>\n",
              "      <th>deposit_type</th>\n",
              "      <th>agent</th>\n",
              "      <th>days_in_waiting_list</th>\n",
              "      <th>customer_type</th>\n",
              "      <th>adr</th>\n",
              "      <th>required_car_parking_spaces</th>\n",
              "      <th>total_of_special_requests</th>\n",
              "      <th>reservation_status</th>\n",
              "      <th>reservation_status_date</th>\n",
              "    </tr>\n",
              "  </thead>\n",
              "  <tbody>\n",
              "    <tr>\n",
              "      <th>0</th>\n",
              "      <td>Resort Hotel</td>\n",
              "      <td>0</td>\n",
              "      <td>342</td>\n",
              "      <td>2015</td>\n",
              "      <td>July</td>\n",
              "      <td>27</td>\n",
              "      <td>1</td>\n",
              "      <td>0</td>\n",
              "      <td>0</td>\n",
              "      <td>2</td>\n",
              "      <td>0.0</td>\n",
              "      <td>0</td>\n",
              "      <td>BB</td>\n",
              "      <td>PRT</td>\n",
              "      <td>Direct</td>\n",
              "      <td>Direct</td>\n",
              "      <td>0</td>\n",
              "      <td>0</td>\n",
              "      <td>0</td>\n",
              "      <td>C</td>\n",
              "      <td>C</td>\n",
              "      <td>3</td>\n",
              "      <td>No Deposit</td>\n",
              "      <td>NaN</td>\n",
              "      <td>0</td>\n",
              "      <td>Transient</td>\n",
              "      <td>0.0</td>\n",
              "      <td>0</td>\n",
              "      <td>0</td>\n",
              "      <td>Check-Out</td>\n",
              "      <td>2015-07-01</td>\n",
              "    </tr>\n",
              "    <tr>\n",
              "      <th>1</th>\n",
              "      <td>Resort Hotel</td>\n",
              "      <td>0</td>\n",
              "      <td>737</td>\n",
              "      <td>2015</td>\n",
              "      <td>July</td>\n",
              "      <td>27</td>\n",
              "      <td>1</td>\n",
              "      <td>0</td>\n",
              "      <td>0</td>\n",
              "      <td>2</td>\n",
              "      <td>0.0</td>\n",
              "      <td>0</td>\n",
              "      <td>BB</td>\n",
              "      <td>PRT</td>\n",
              "      <td>Direct</td>\n",
              "      <td>Direct</td>\n",
              "      <td>0</td>\n",
              "      <td>0</td>\n",
              "      <td>0</td>\n",
              "      <td>C</td>\n",
              "      <td>C</td>\n",
              "      <td>4</td>\n",
              "      <td>No Deposit</td>\n",
              "      <td>NaN</td>\n",
              "      <td>0</td>\n",
              "      <td>Transient</td>\n",
              "      <td>0.0</td>\n",
              "      <td>0</td>\n",
              "      <td>0</td>\n",
              "      <td>Check-Out</td>\n",
              "      <td>2015-07-01</td>\n",
              "    </tr>\n",
              "    <tr>\n",
              "      <th>2</th>\n",
              "      <td>Resort Hotel</td>\n",
              "      <td>0</td>\n",
              "      <td>7</td>\n",
              "      <td>2015</td>\n",
              "      <td>July</td>\n",
              "      <td>27</td>\n",
              "      <td>1</td>\n",
              "      <td>0</td>\n",
              "      <td>1</td>\n",
              "      <td>1</td>\n",
              "      <td>0.0</td>\n",
              "      <td>0</td>\n",
              "      <td>BB</td>\n",
              "      <td>GBR</td>\n",
              "      <td>Direct</td>\n",
              "      <td>Direct</td>\n",
              "      <td>0</td>\n",
              "      <td>0</td>\n",
              "      <td>0</td>\n",
              "      <td>A</td>\n",
              "      <td>C</td>\n",
              "      <td>0</td>\n",
              "      <td>No Deposit</td>\n",
              "      <td>NaN</td>\n",
              "      <td>0</td>\n",
              "      <td>Transient</td>\n",
              "      <td>75.0</td>\n",
              "      <td>0</td>\n",
              "      <td>0</td>\n",
              "      <td>Check-Out</td>\n",
              "      <td>2015-07-02</td>\n",
              "    </tr>\n",
              "    <tr>\n",
              "      <th>3</th>\n",
              "      <td>Resort Hotel</td>\n",
              "      <td>0</td>\n",
              "      <td>13</td>\n",
              "      <td>2015</td>\n",
              "      <td>July</td>\n",
              "      <td>27</td>\n",
              "      <td>1</td>\n",
              "      <td>0</td>\n",
              "      <td>1</td>\n",
              "      <td>1</td>\n",
              "      <td>0.0</td>\n",
              "      <td>0</td>\n",
              "      <td>BB</td>\n",
              "      <td>GBR</td>\n",
              "      <td>Corporate</td>\n",
              "      <td>Corporate</td>\n",
              "      <td>0</td>\n",
              "      <td>0</td>\n",
              "      <td>0</td>\n",
              "      <td>A</td>\n",
              "      <td>A</td>\n",
              "      <td>0</td>\n",
              "      <td>No Deposit</td>\n",
              "      <td>304.0</td>\n",
              "      <td>0</td>\n",
              "      <td>Transient</td>\n",
              "      <td>75.0</td>\n",
              "      <td>0</td>\n",
              "      <td>0</td>\n",
              "      <td>Check-Out</td>\n",
              "      <td>2015-07-02</td>\n",
              "    </tr>\n",
              "    <tr>\n",
              "      <th>4</th>\n",
              "      <td>Resort Hotel</td>\n",
              "      <td>0</td>\n",
              "      <td>14</td>\n",
              "      <td>2015</td>\n",
              "      <td>July</td>\n",
              "      <td>27</td>\n",
              "      <td>1</td>\n",
              "      <td>0</td>\n",
              "      <td>2</td>\n",
              "      <td>2</td>\n",
              "      <td>0.0</td>\n",
              "      <td>0</td>\n",
              "      <td>BB</td>\n",
              "      <td>GBR</td>\n",
              "      <td>Online TA</td>\n",
              "      <td>TA/TO</td>\n",
              "      <td>0</td>\n",
              "      <td>0</td>\n",
              "      <td>0</td>\n",
              "      <td>A</td>\n",
              "      <td>A</td>\n",
              "      <td>0</td>\n",
              "      <td>No Deposit</td>\n",
              "      <td>240.0</td>\n",
              "      <td>0</td>\n",
              "      <td>Transient</td>\n",
              "      <td>98.0</td>\n",
              "      <td>0</td>\n",
              "      <td>1</td>\n",
              "      <td>Check-Out</td>\n",
              "      <td>2015-07-03</td>\n",
              "    </tr>\n",
              "  </tbody>\n",
              "</table>\n",
              "</div>"
            ],
            "text/plain": [
              "          hotel  is_canceled  ...  reservation_status  reservation_status_date\n",
              "0  Resort Hotel            0  ...           Check-Out               2015-07-01\n",
              "1  Resort Hotel            0  ...           Check-Out               2015-07-01\n",
              "2  Resort Hotel            0  ...           Check-Out               2015-07-02\n",
              "3  Resort Hotel            0  ...           Check-Out               2015-07-02\n",
              "4  Resort Hotel            0  ...           Check-Out               2015-07-03\n",
              "\n",
              "[5 rows x 31 columns]"
            ]
          },
          "metadata": {
            "tags": []
          },
          "execution_count": 229
        }
      ]
    },
    {
      "cell_type": "code",
      "metadata": {
        "id": "50xUSfXfCofp",
        "outputId": "a6b1b5ac-dec5-4b34-fd97-02be5da0d3f4",
        "colab": {
          "base_uri": "https://localhost:8080/",
          "height": 201
        }
      },
      "source": [
        "df_new = df1.copy()[['required_car_parking_spaces','lead_time','booking_changes','adr','adults', 'is_canceled']]\n",
        "df_new.head()"
      ],
      "execution_count": 230,
      "outputs": [
        {
          "output_type": "execute_result",
          "data": {
            "text/html": [
              "<div>\n",
              "<style scoped>\n",
              "    .dataframe tbody tr th:only-of-type {\n",
              "        vertical-align: middle;\n",
              "    }\n",
              "\n",
              "    .dataframe tbody tr th {\n",
              "        vertical-align: top;\n",
              "    }\n",
              "\n",
              "    .dataframe thead th {\n",
              "        text-align: right;\n",
              "    }\n",
              "</style>\n",
              "<table border=\"1\" class=\"dataframe\">\n",
              "  <thead>\n",
              "    <tr style=\"text-align: right;\">\n",
              "      <th></th>\n",
              "      <th>required_car_parking_spaces</th>\n",
              "      <th>lead_time</th>\n",
              "      <th>booking_changes</th>\n",
              "      <th>adr</th>\n",
              "      <th>adults</th>\n",
              "      <th>is_canceled</th>\n",
              "    </tr>\n",
              "  </thead>\n",
              "  <tbody>\n",
              "    <tr>\n",
              "      <th>0</th>\n",
              "      <td>0</td>\n",
              "      <td>342</td>\n",
              "      <td>3</td>\n",
              "      <td>0.0</td>\n",
              "      <td>2</td>\n",
              "      <td>0</td>\n",
              "    </tr>\n",
              "    <tr>\n",
              "      <th>1</th>\n",
              "      <td>0</td>\n",
              "      <td>737</td>\n",
              "      <td>4</td>\n",
              "      <td>0.0</td>\n",
              "      <td>2</td>\n",
              "      <td>0</td>\n",
              "    </tr>\n",
              "    <tr>\n",
              "      <th>2</th>\n",
              "      <td>0</td>\n",
              "      <td>7</td>\n",
              "      <td>0</td>\n",
              "      <td>75.0</td>\n",
              "      <td>1</td>\n",
              "      <td>0</td>\n",
              "    </tr>\n",
              "    <tr>\n",
              "      <th>3</th>\n",
              "      <td>0</td>\n",
              "      <td>13</td>\n",
              "      <td>0</td>\n",
              "      <td>75.0</td>\n",
              "      <td>1</td>\n",
              "      <td>0</td>\n",
              "    </tr>\n",
              "    <tr>\n",
              "      <th>4</th>\n",
              "      <td>0</td>\n",
              "      <td>14</td>\n",
              "      <td>0</td>\n",
              "      <td>98.0</td>\n",
              "      <td>2</td>\n",
              "      <td>0</td>\n",
              "    </tr>\n",
              "  </tbody>\n",
              "</table>\n",
              "</div>"
            ],
            "text/plain": [
              "   required_car_parking_spaces  lead_time  ...  adults  is_canceled\n",
              "0                            0        342  ...       2            0\n",
              "1                            0        737  ...       2            0\n",
              "2                            0          7  ...       1            0\n",
              "3                            0         13  ...       1            0\n",
              "4                            0         14  ...       2            0\n",
              "\n",
              "[5 rows x 6 columns]"
            ]
          },
          "metadata": {
            "tags": []
          },
          "execution_count": 230
        }
      ]
    },
    {
      "cell_type": "code",
      "metadata": {
        "id": "inDjPE8jCsn6"
      },
      "source": [
        "x = df_new.drop(['is_canceled'], axis=1)\n",
        "y = df_new['is_canceled']"
      ],
      "execution_count": 231,
      "outputs": []
    },
    {
      "cell_type": "code",
      "metadata": {
        "id": "q_hpXwbYCvqR"
      },
      "source": [
        "x_train, x_test, y_train, y_test = train_test_split(x, y, test_size=0.20, shuffle=False)"
      ],
      "execution_count": 232,
      "outputs": []
    },
    {
      "cell_type": "code",
      "metadata": {
        "id": "MYQ9uPXhCyDj",
        "outputId": "3702bd80-b332-4846-f366-8c7b4436832a",
        "colab": {
          "base_uri": "https://localhost:8080/"
        }
      },
      "source": [
        "model_LogReg_Asli= LogisticRegression()\n",
        "model_LogReg_Asli.fit(x_train, y_train)\n",
        "print(model_LogReg_Asli.coef_)\n",
        "print(model_LogReg_Asli.intercept_)\n",
        "\n",
        "m=model_LogReg_Asli.coef_[0][0]\n",
        "c=model_LogReg_Asli.intercept_[0]"
      ],
      "execution_count": 233,
      "outputs": [
        {
          "output_type": "stream",
          "text": [
            "[[-4.05812101  0.0065949  -0.77725534  0.00978826  0.08451063]]\n",
            "[-2.01165506]\n"
          ],
          "name": "stdout"
        }
      ]
    },
    {
      "cell_type": "code",
      "metadata": {
        "id": "q16fjd9sC0mc"
      },
      "source": [
        "y_pred_lr=model_LogReg_Asli.predict(x_test)"
      ],
      "execution_count": 234,
      "outputs": []
    },
    {
      "cell_type": "code",
      "metadata": {
        "id": "_IAWlcWNC3Pl",
        "outputId": "3664004d-0b48-4ccf-f53e-762c1c3b172c",
        "colab": {
          "base_uri": "https://localhost:8080/"
        }
      },
      "source": [
        "model_LogReg_Asli.score(x_train,y_train)"
      ],
      "execution_count": 235,
      "outputs": [
        {
          "output_type": "execute_result",
          "data": {
            "text/plain": [
              "0.68528553563985"
            ]
          },
          "metadata": {
            "tags": []
          },
          "execution_count": 235
        }
      ]
    },
    {
      "cell_type": "code",
      "metadata": {
        "id": "M9Q5Y4KpC8TW",
        "outputId": "6171c606-3817-4310-a26e-5f36f1c7c7fe",
        "colab": {
          "base_uri": "https://localhost:8080/"
        }
      },
      "source": [
        "model_LogReg_Asli.score(x_test,y_test)"
      ],
      "execution_count": 236,
      "outputs": [
        {
          "output_type": "execute_result",
          "data": {
            "text/plain": [
              "0.6933333333333334"
            ]
          },
          "metadata": {
            "tags": []
          },
          "execution_count": 236
        }
      ]
    },
    {
      "cell_type": "code",
      "metadata": {
        "id": "K9JPxxn1C_BN",
        "outputId": "5dc74721-a2a4-4880-df7d-08b56920f940",
        "colab": {
          "base_uri": "https://localhost:8080/"
        }
      },
      "source": [
        "confusion_matrix(y_test,y_pred_lr)"
      ],
      "execution_count": 237,
      "outputs": [
        {
          "output_type": "execute_result",
          "data": {
            "text/plain": [
              "array([[411,   1],\n",
              "       [183,   5]])"
            ]
          },
          "metadata": {
            "tags": []
          },
          "execution_count": 237
        }
      ]
    },
    {
      "cell_type": "code",
      "metadata": {
        "id": "42nK5PlbDCdw",
        "outputId": "e4dc6a0c-99d4-46b5-a43c-089bad7f9689",
        "colab": {
          "base_uri": "https://localhost:8080/"
        }
      },
      "source": [
        "print(classification_report(y_test, y_pred_lr))"
      ],
      "execution_count": 238,
      "outputs": [
        {
          "output_type": "stream",
          "text": [
            "              precision    recall  f1-score   support\n",
            "\n",
            "           0       0.69      1.00      0.82       412\n",
            "           1       0.83      0.03      0.05       188\n",
            "\n",
            "    accuracy                           0.69       600\n",
            "   macro avg       0.76      0.51      0.43       600\n",
            "weighted avg       0.74      0.69      0.58       600\n",
            "\n"
          ],
          "name": "stdout"
        }
      ]
    },
    {
      "cell_type": "markdown",
      "metadata": {
        "id": "fX0ZnfGpDJLC"
      },
      "source": [
        "## **As you can see above, the Logistic Regression model has about 69.3 percent of accuracy.**"
      ]
    },
    {
      "cell_type": "markdown",
      "metadata": {
        "id": "4Jwmw6myDOBE"
      },
      "source": [
        "## **We can inprove the accuracy of the model by considering more parameters insisted of these 5.**"
      ]
    },
    {
      "cell_type": "markdown",
      "metadata": {
        "id": "5ru9EfFiwlIx"
      },
      "source": [
        "### **competitive summary**"
      ]
    },
    {
      "cell_type": "code",
      "metadata": {
        "id": "QedqvHKmpwcS",
        "outputId": "070e0f29-b595-4ef5-a431-2424d623d604",
        "colab": {
          "base_uri": "https://localhost:8080/",
          "height": 231
        }
      },
      "source": [
        "table = pd.DataFrame({\"Model\": [\"Decision Tree (reservation status included)\", \"Logistic Regression\",\n",
        "                                \"Naive Bayes\", \"Decision Tree(reservation status excluded)\", \"Random Forest\"],\n",
        "                              \n",
        "                     \"Accuracy Scores\": [\"1\", \"0.804\", \"0.582\", \"0.82\", \"0.851\"],\n",
        "                     \"ROC | Auc\": [\"1\", \"0.88\", \"0.78\",\"0.76\" ,\"0\"]})\n",
        "\n",
        "\n",
        "table[\"Model\"] = table[\"Model\"].astype(\"category\")\n",
        "table[\"Accuracy Scores\"] = table[\"Accuracy Scores\"].astype(\"float32\")\n",
        "table[\"ROC | Auc\"] = table[\"ROC | Auc\"].astype(\"float32\")\n",
        "\n",
        "pd.pivot_table(table, index = [\"Model\"]).sort_values(by = 'Accuracy Scores', ascending=False)"
      ],
      "execution_count": 243,
      "outputs": [
        {
          "output_type": "execute_result",
          "data": {
            "text/html": [
              "<div>\n",
              "<style scoped>\n",
              "    .dataframe tbody tr th:only-of-type {\n",
              "        vertical-align: middle;\n",
              "    }\n",
              "\n",
              "    .dataframe tbody tr th {\n",
              "        vertical-align: top;\n",
              "    }\n",
              "\n",
              "    .dataframe thead th {\n",
              "        text-align: right;\n",
              "    }\n",
              "</style>\n",
              "<table border=\"1\" class=\"dataframe\">\n",
              "  <thead>\n",
              "    <tr style=\"text-align: right;\">\n",
              "      <th></th>\n",
              "      <th>Accuracy Scores</th>\n",
              "      <th>ROC | Auc</th>\n",
              "    </tr>\n",
              "    <tr>\n",
              "      <th>Model</th>\n",
              "      <th></th>\n",
              "      <th></th>\n",
              "    </tr>\n",
              "  </thead>\n",
              "  <tbody>\n",
              "    <tr>\n",
              "      <th>Decision Tree (reservation status included)</th>\n",
              "      <td>1.000</td>\n",
              "      <td>1.00</td>\n",
              "    </tr>\n",
              "    <tr>\n",
              "      <th>Random Forest</th>\n",
              "      <td>0.851</td>\n",
              "      <td>0.00</td>\n",
              "    </tr>\n",
              "    <tr>\n",
              "      <th>Decision Tree(reservation status excluded)</th>\n",
              "      <td>0.820</td>\n",
              "      <td>0.76</td>\n",
              "    </tr>\n",
              "    <tr>\n",
              "      <th>Logistic Regression</th>\n",
              "      <td>0.804</td>\n",
              "      <td>0.88</td>\n",
              "    </tr>\n",
              "    <tr>\n",
              "      <th>Naive Bayes</th>\n",
              "      <td>0.582</td>\n",
              "      <td>0.78</td>\n",
              "    </tr>\n",
              "  </tbody>\n",
              "</table>\n",
              "</div>"
            ],
            "text/plain": [
              "                                             Accuracy Scores  ROC | Auc\n",
              "Model                                                                  \n",
              "Decision Tree (reservation status included)            1.000       1.00\n",
              "Random Forest                                          0.851       0.00\n",
              "Decision Tree(reservation status excluded)             0.820       0.76\n",
              "Logistic Regression                                    0.804       0.88\n",
              "Naive Bayes                                            0.582       0.78"
            ]
          },
          "metadata": {
            "tags": []
          },
          "execution_count": 243
        }
      ]
    },
    {
      "cell_type": "markdown",
      "metadata": {
        "id": "QWO5J0n709a1"
      },
      "source": [
        "## **Random forest model has the highest  score. In addition, it also has the highest Best cross-validation score-- 0.8617. Therefore, Random forest model is the best option.**"
      ]
    },
    {
      "cell_type": "markdown",
      "metadata": {
        "id": "xrhiEtxSxGhy"
      },
      "source": [
        "## **Summary -**"
      ]
    },
    {
      "cell_type": "markdown",
      "metadata": {
        "id": "MaqmZ6cLw_9z"
      },
      "source": [
        "1. As we can see from the summary table, the best algorithm is random forest for this data set.\n",
        "2. 0 values are uncalculated ones.\n",
        "3. We do not count decision tree with reservatiton status which is broken. All algorithms would give 100% accuracy scores while reservation status is included."
      ]
    }
  ]
}